{
 "cells": [
  {
   "cell_type": "markdown",
   "id": "348625e3-12a1-4cce-9e55-d5664f2dda66",
   "metadata": {},
   "source": [
    "使用するカラム  \n",
    "    1\tレコード種別ID\trecord_id\r",
    "    \n",
    "2\tデータ区分\tdata_kubun    \r\n",
    "3\tデータ作成年月日\tdata_sakusei_nengappi\r\n",
    "4\t開催年\tkaisai_nen\r\n",
    "5\t開催月日\tkaisai_tsukihi\r\n",
    "6\t競馬場コード\tkeibajo_code\r\n",
    "7\t開催回[第N回]\tkaisai_kai\r\n",
    "8\t開催日目[N日目]\tkaisai_nichime\r\n",
    "9\tレース番号\trace_bango\r\n",
    "10\t曜日コード\ty    obi_code\r\n",
    "11\t特別競走番号\ttokubetsu_ky    oso_bango\r\n",
    "12\t競走名本題\tkyoso    mei_hondai\r\n",
    "13\t競走名副題\tkyoso    mei_fukudai\r\n",
    "14\t競走名カッコ内\tkyoso    mei_kakkonai\r\n",
    "15\t競走名本題欧字\tkyosom    ei_hondai_eur\r\n",
    "16\t競走名副題欧字\tkyosom    ei_fukudai_eur\r\n",
    "17\t競走名カッコ内欧字\tkyosom    ei_kakkonai_eur\r\n",
    "18\t競走名略称10文字\tkyos    omei_ryakusho_10\r\n",
    "19\t競走名略称6文字\tky    osomei_ryakusho_6\r\n",
    "20\t競走名略称3文字\tk    yosomei_ryakusho_3\r\n",
    "21\t競走名区分\tkyosomei_kubun\r\n",
    "22\t重賞回次[第N回]\tjusho_kaiji\r\n",
    "    23\tグレードコード\tgrade_code\r\n",
    "24\t変更前グレードコード（二重グレードコード）\tgrade_code_henkomae\r\n",
    "25\t競走種別コード\tkyoso_shubetsu_code\r\n",
    "26\t競走記号コード\tkyoso_kigo_code\r\n",
    "27\t重量種別コード\tjuryo_shubetsu_code\r\n",
    "28\t競走条件コード 2歳条件\tkyoso_joken_code_2sai\r\n",
    "29\t競走条件コード 3歳条件\tkyoso_joken_code_3sai\r\n",
    "30\t競走条件コード 4歳条件\tkyoso_joken_code_4sai\r\n",
    "31\t競走条件コード 5歳以上条件\tkyoso_joken_code_5sai_ijo\r\n",
    "32\t    競走条件コード 最若年条件\tkyoso_joken_code\r\n",
    "33\t競走条件名称    \tkyoso_joken_meisho\r\n",
    "34\t距離\tkyori\r\n",
    "35\t変更前距離\tkyo    ri_henkomae\r\n",
    "36\tトラックコード\ttrack_code\r\n",
    "37\t変更前トラックコード\ttrack_    code_henkomae\r\n",
    "38\tコース区分\tcourse_kubun\r\n",
    "39\t変更前コース区分\tc    ourse_kubun_henkomae\r\n",
    "40\t本賞金\thonshokin\r\n",
    "41\t変更前本賞    金\thonshokin_henkomae\r\n",
    "42\t付加賞金\tfukashokin\r\n",
    "43\t変更前付加賞金    \tfukashokin_henkomae\r\n",
    "44\t発走時刻\thasso_jikoku\r\n",
    "45\t変更前発走時刻\thasso_jikoku_henkomae\r\n",
    "46\t登録頭数\ttoroku_tosu\r\n",
    "47\t出走頭数\tshusso_tosu\r\n",
    "48\t入線頭数\tnyusen_tosu\r\n",
    "49\t天候コード\ttenko_code\r\n",
    "50\t芝馬場状態コード\tbabajo    tai_code_shiba\r\n",
    "51\t    ダート馬場状態コード\tbabajotai_code_dir    t\r\n",
    "52\tラップタイム\tlap_ti    me\r\n",
    "53\t障害マイルタイム\tsho    gai_mile_time\r\n",
    "54\t    前3ハロン\tzenhan_3f\r\n",
    "5    5\t前4ハロン\tzenhan_4f\r\n",
    "56\t後3ハロン\tkohan    _3f\r\n",
    "57\t後4ハロン\tkohan_4f\r\n",
    "58\tコーナー通過    順位1\tcorner_tsuka_juni_1\r\n",
    "59\tコーナー通    過順位2\tcorner_tsuka_juni_2\r\n",
    "60\tコーナー    通過順位3\tcorner_tsuka_juni_3\r\n",
    "61\tコーナー通過順位4\tcorner_tsuka_juni_4\r\n",
    "62\tレコード更新区分\trecord_koshin_kubunーナー通過順位4\tcorner_tsuka_juni_4\r\n",
    "62\tレコード更新区分\trecord_koshin_kubunーナー通過順位4\tcorner_tsuka_juni_4\r\n",
    "62\tレコード更新区分\trecord_koshin_kubunコーナー通過順位4\tcorner_tsuka_juni_4\r\n",
    "62\tレコード更新区分\trecord_koshin_kubun"
   ]
  },
  {
   "cell_type": "code",
   "execution_count": 1,
   "id": "a63ddbdd-def4-4a06-81e7-762cb3bea5f0",
   "metadata": {},
   "outputs": [],
   "source": [
    "columns = [ 'kaisai_nen',\n",
    "            'kaisai_tsukihi',\n",
    "            'keibajo_code',\n",
    "            'kaisai_kai',\n",
    "            'kaisai_nichime',\n",
    "            'race_bango',\n",
    "            'yobi_code',\n",
    "            'jusho_kaiji',\n",
    "            'grade_code',\n",
    "            'kyoso_shubetsu_code',\n",
    "            'kyoso_kigo_code',\n",
    "            'juryo_shubetsu_code',\n",
    "            'kyoso_joken_code_2sai',\n",
    "            'kyoso_joken_code_3sai',\n",
    "            'kyoso_joken_code_4sai',\n",
    "            'kyoso_joken_code_5sai_ijo',\n",
    "            'kyoso_joken_code',\n",
    "            'kyori',\n",
    "            'track_code',\n",
    "            'course_kubun',\n",
    "            'honshokin',\n",
    "            'fukashokin',\n",
    "            'hasso_jikoku',\n",
    "            'toroku_tosu',\n",
    "            'shusso_tosu',\n",
    "            'nyusen_tosu',\n",
    "            'tenko_code',\n",
    "            'babajotai_code_shiba',\n",
    "            'babajotai_code_dirt',\n",
    "            ]"
   ]
  },
  {
   "cell_type": "markdown",
   "id": "72ca9841-adc6-4612-b82f-f2f94a32faa7",
   "metadata": {},
   "source": [
    "# preparation"
   ]
  },
  {
   "cell_type": "code",
   "execution_count": 2,
   "id": "5c5e3421-37ca-4d81-be58-0d51a09c5561",
   "metadata": {
    "scrolled": true
   },
   "outputs": [],
   "source": [
    "import pandas as pd"
   ]
  },
  {
   "cell_type": "code",
   "execution_count": 3,
   "id": "11351b30-8083-423f-a50c-46bfde76436b",
   "metadata": {},
   "outputs": [],
   "source": [
    "j_race_df = pd.read_pickle('../../traindata/rawdata/j_race.pkl')\n",
    "n_race_df = pd.read_pickle('../../traindata/rawdata/n_race.pkl')\n",
    "j_race_df = j_race_df[columns]\n",
    "n_race_df = n_race_df[columns]"
   ]
  },
  {
   "cell_type": "markdown",
   "id": "ce34a890-aa9a-4216-a861-770ed69a8f7b",
   "metadata": {},
   "source": [
    "# cleansing"
   ]
  },
  {
   "cell_type": "code",
   "execution_count": 4,
   "id": "d111edf5-e386-4575-ab0c-db2804566704",
   "metadata": {},
   "outputs": [
    {
     "data": {
      "text/plain": [
       "array([' ', 'D', 'E', 'C', 'B', 'A', 'G', 'H', 'L', 'F'], dtype=object)"
      ]
     },
     "execution_count": 4,
     "metadata": {},
     "output_type": "execute_result"
    }
   ],
   "source": [
    "j_race_df['grade_code'].unique()"
   ]
  },
  {
   "cell_type": "code",
   "execution_count": 5,
   "id": "a7d744e7-288d-482d-b0c1-e04f6174f1af",
   "metadata": {
    "scrolled": true
   },
   "outputs": [],
   "source": [
    "#grade_code \n",
    "j_race_df['grade_code'].value_counts()\n",
    "\n",
    "mapping = {\n",
    "    'A': '1',\n",
    "    'B': '2',\n",
    "    'C': '3',\n",
    "    'D': '4',\n",
    "    'E': '5',\n",
    "    'F': '6',\n",
    "    'G': '7',\n",
    "    'H': '8',\n",
    "}\n",
    "j_race_df['grade_code'] = j_race_df['grade_code'].map(mapping).fillna(0)\n",
    "n_race_df['grade_code'] = n_race_df['grade_code'].map(mapping).fillna(0)"
   ]
  },
  {
   "cell_type": "code",
   "execution_count": 6,
   "id": "721d858b-d304-43fc-96e7-3386f3b6e976",
   "metadata": {},
   "outputs": [
    {
     "data": {
      "text/plain": [
       "array([0, '4', '5', '3', '2', '1', '7', '8', '6'], dtype=object)"
      ]
     },
     "execution_count": 6,
     "metadata": {},
     "output_type": "execute_result"
    }
   ],
   "source": [
    "j_race_df['grade_code'].unique()"
   ]
  },
  {
   "cell_type": "code",
   "execution_count": 7,
   "id": "748267e4-97bd-4b4a-8ba1-0e84fcc32c61",
   "metadata": {},
   "outputs": [],
   "source": [
    "#kyoso_kigo_code \n",
    "j_race_df['kyoso_kigo_code'].value_counts()\n",
    "\n",
    "mapping = {\n",
    "    'A00': '100',\n",
    "    'A01': '101',\n",
    "    'A02': '102',\n",
    "    'A03': '103',\n",
    "    'A04': '104',\n",
    "    'A05': '105',\n",
    "    'A06': '106',\n",
    "    'A07': '107',\n",
    "    'A08': '108',\n",
    "    'A09': '109',\n",
    "    'A10': '110',\n",
    "    'A20': '120',\n",
    "    'A21': '121',\n",
    "    'A22': '122',\n",
    "    'A23': '123',\n",
    "    'A24': '124',\n",
    "    'A25': '125',\n",
    "    'N00': '1400',\n",
    "    'N01': '1401',\n",
    "    'N02': '1402',\n",
    "    'N03': '1403',\n",
    "    'N04': '1404',\n",
    "    'N05': '1405',\n",
    "    'N06': '1406',\n",
    "    'N07': '1407',\n",
    "    'N08': '1408',\n",
    "    'N09': '1409',\n",
    "    'N10': '1410',\n",
    "    'N20': '1420',\n",
    "    'N21': '1421',\n",
    "    'N22': '1422',\n",
    "    'N23': '1423',\n",
    "    'N24': '1424',\n",
    "    'N25': '1425',\n",
    "    'N41': '1441',\n",
    "    'N44': '1444',\n",
    "    'M00': '1300',\n",
    "    'M01': '1301',\n",
    "    'M02': '1302',\n",
    "    'M03': '1303',\n",
    "    'M04': '1304',\n",
    "    'M05': '1305',\n",
    "}\n",
    "\n",
    "j_race_df['kyoso_kigo_code'] = j_race_df['kyoso_kigo_code'].map(mapping).fillna(0)\n",
    "n_race_df['kyoso_kigo_code'] = n_race_df['kyoso_kigo_code'].map(mapping).fillna(0)"
   ]
  },
  {
   "cell_type": "code",
   "execution_count": 8,
   "id": "f9aabaaa-c37c-4219-bebb-f2f2fedada68",
   "metadata": {},
   "outputs": [
    {
     "data": {
      "text/plain": [
       "array(['  ', 'B ', 'A ', 'C ', 'D '], dtype=object)"
      ]
     },
     "execution_count": 8,
     "metadata": {},
     "output_type": "execute_result"
    }
   ],
   "source": [
    "j_race_df['course_kubun'].unique()"
   ]
  },
  {
   "cell_type": "code",
   "execution_count": 9,
   "id": "8ffe491d-cce5-4759-8a12-8a8b6f9ef709",
   "metadata": {},
   "outputs": [],
   "source": [
    "#course_kubun  \n",
    "j_race_df['course_kubun'].value_counts()\n",
    "\n",
    "mapping = {\n",
    "    'A ': '1',\n",
    "    'B ': '2',\n",
    "    'C ': '3',\n",
    "    'D ': '4',\n",
    "    }\n",
    "\n",
    "j_race_df['course_kubun'] = j_race_df['course_kubun'].map(mapping).fillna(0)\n",
    "n_race_df['course_kubun'] = n_race_df['course_kubun'].map(mapping).fillna(0)"
   ]
  },
  {
   "cell_type": "code",
   "execution_count": 10,
   "id": "a1df077f-fc49-4375-a4a0-00ea538241d7",
   "metadata": {},
   "outputs": [
    {
     "data": {
      "text/plain": [
       "array([0, '2', '1', '3', '4'], dtype=object)"
      ]
     },
     "execution_count": 10,
     "metadata": {},
     "output_type": "execute_result"
    }
   ],
   "source": [
    "j_race_df['course_kubun'].unique()"
   ]
  },
  {
   "cell_type": "code",
   "execution_count": 11,
   "id": "a4f8f270-db95-41c8-8f9b-c06fa7f9ef68",
   "metadata": {},
   "outputs": [
    {
     "name": "stdout",
     "output_type": "stream",
     "text": [
      "kaisai_nen の欠損値の量: 0\n",
      "kaisai_nen の欠損値の量: 0\n",
      "kaisai_tsukihi の欠損値の量: 0\n",
      "kaisai_tsukihi の欠損値の量: 0\n",
      "keibajo_code の欠損値の量: 1269\n",
      "keibajo_code の欠損値の量: 0\n",
      "kaisai_kai の欠損値の量: 0\n",
      "kaisai_kai の欠損値の量: 0\n",
      "kaisai_nichime の欠損値の量: 0\n",
      "kaisai_nichime の欠損値の量: 0\n",
      "race_bango の欠損値の量: 0\n",
      "race_bango の欠損値の量: 0\n",
      "yobi_code の欠損値の量: 0\n",
      "yobi_code の欠損値の量: 0\n",
      "jusho_kaiji の欠損値の量: 0\n",
      "jusho_kaiji の欠損値の量: 0\n",
      "grade_code の欠損値の量: 0\n",
      "grade_code の欠損値の量: 0\n",
      "kyoso_shubetsu_code の欠損値の量: 0\n",
      "kyoso_shubetsu_code の欠損値の量: 0\n",
      "kyoso_kigo_code の欠損値の量: 0\n",
      "kyoso_kigo_code の欠損値の量: 0\n",
      "juryo_shubetsu_code の欠損値の量: 0\n",
      "juryo_shubetsu_code の欠損値の量: 0\n",
      "kyoso_joken_code_2sai の欠損値の量: 0\n",
      "kyoso_joken_code_2sai の欠損値の量: 0\n",
      "kyoso_joken_code_3sai の欠損値の量: 0\n",
      "kyoso_joken_code_3sai の欠損値の量: 0\n",
      "kyoso_joken_code_4sai の欠損値の量: 0\n",
      "kyoso_joken_code_4sai の欠損値の量: 0\n",
      "kyoso_joken_code_5sai_ijo の欠損値の量: 0\n",
      "kyoso_joken_code_5sai_ijo の欠損値の量: 0\n",
      "kyoso_joken_code の欠損値の量: 0\n",
      "kyoso_joken_code の欠損値の量: 0\n",
      "kyori の欠損値の量: 0\n",
      "kyori の欠損値の量: 0\n",
      "track_code の欠損値の量: 0\n",
      "track_code の欠損値の量: 0\n",
      "course_kubun の欠損値の量: 0\n",
      "course_kubun の欠損値の量: 0\n",
      "honshokin の欠損値の量: 0\n",
      "honshokin の欠損値の量: 0\n",
      "fukashokin の欠損値の量: 0\n",
      "fukashokin の欠損値の量: 0\n",
      "hasso_jikoku の欠損値の量: 0\n",
      "hasso_jikoku の欠損値の量: 0\n",
      "toroku_tosu の欠損値の量: 0\n",
      "toroku_tosu の欠損値の量: 0\n",
      "shusso_tosu の欠損値の量: 0\n",
      "shusso_tosu の欠損値の量: 0\n",
      "nyusen_tosu の欠損値の量: 0\n",
      "nyusen_tosu の欠損値の量: 0\n",
      "tenko_code の欠損値の量: 0\n",
      "tenko_code の欠損値の量: 0\n",
      "babajotai_code_shiba の欠損値の量: 0\n",
      "babajotai_code_shiba の欠損値の量: 0\n",
      "babajotai_code_dirt の欠損値の量: 0\n",
      "babajotai_code_dirt の欠損値の量: 8682\n"
     ]
    }
   ],
   "source": [
    "# 各カラムを数値化し、欠損値の量を調べる\n",
    "for column in columns:\n",
    "    j_race_df[column] = pd.to_numeric(j_race_df[column], errors='coerce')\n",
    "    n_race_df[column] = pd.to_numeric(n_race_df[column], errors='coerce')\n",
    "    j_missing_values = j_race_df[column].isna().sum()\n",
    "    print(f\"{column} の欠損値の量: {j_missing_values}\")\n",
    "    n_missing_values = n_race_df[column].isna().sum()\n",
    "    print(f\"{column} の欠損値の量: {n_missing_values}\")"
   ]
  },
  {
   "cell_type": "code",
   "execution_count": 12,
   "id": "ee5c9456-2dcb-4b7f-9aba-f6da492b8e4e",
   "metadata": {},
   "outputs": [
    {
     "data": {
      "text/plain": [
       "keibajo_code\n",
       "50.0    7573\n",
       "5.0     7298\n",
       "9.0     7260\n",
       "6.0     6683\n",
       "8.0     6120\n",
       "48.0    4957\n",
       "4.0     4608\n",
       "30.0    4345\n",
       "47.0    4290\n",
       "7.0     4272\n",
       "10.0    4017\n",
       "3.0     3120\n",
       "44.0    2974\n",
       "55.0    2315\n",
       "2.0     2256\n",
       "45.0    2245\n",
       "1.0     2112\n",
       "43.0    1971\n",
       "46.0    1934\n",
       "35.0    1497\n",
       "42.0    1425\n",
       "54.0    1151\n",
       "36.0    1063\n",
       "51.0     431\n",
       "56.0     390\n",
       "53.0     205\n",
       "Name: count, dtype: int64"
      ]
     },
     "execution_count": 12,
     "metadata": {},
     "output_type": "execute_result"
    }
   ],
   "source": [
    "#keibajo_code \n",
    "j_race_df['keibajo_code'].value_counts()"
   ]
  },
  {
   "cell_type": "markdown",
   "id": "a24d6aff-9c74-49c3-8810-7e550abad05f",
   "metadata": {},
   "source": [
    "# save as pickle"
   ]
  },
  {
   "cell_type": "code",
   "execution_count": 13,
   "id": "62618162-3a74-445c-a114-3761fe4da233",
   "metadata": {},
   "outputs": [],
   "source": [
    "j_race_df.to_pickle('../../traindata/j_race.pkl')\n",
    "n_race_df.to_pickle('../../traindata/n_race.pkl')"
   ]
  }
 ],
 "metadata": {
  "kernelspec": {
   "display_name": "Python 3 (ipykernel)",
   "language": "python",
   "name": "python3"
  },
  "language_info": {
   "codemirror_mode": {
    "name": "ipython",
    "version": 3
   },
   "file_extension": ".py",
   "mimetype": "text/x-python",
   "name": "python",
   "nbconvert_exporter": "python",
   "pygments_lexer": "ipython3",
   "version": "3.9.17"
  }
 },
 "nbformat": 4,
 "nbformat_minor": 5
}

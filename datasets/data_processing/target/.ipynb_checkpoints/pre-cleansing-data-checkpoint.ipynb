{
 "cells": [
  {
   "cell_type": "markdown",
   "id": "35a047f5-ad71-4789-af5b-d61a9124de49",
   "metadata": {},
   "source": [
    "# columns info"
   ]
  },
  {
   "cell_type": "markdown",
   "id": "d3d17115-baf9-4cb1-a2f5-d87bb9ef3a6b",
   "metadata": {},
   "source": [
    "使用するカラム  \n",
    "     1\tレコード種別ID\trecord_id  \n",
    "     2\tデータ区分\tdata_kubun  \n",
    "     3\tデータ作成年月日\tdata_sakusei_nengappi  \n",
    "4\t開催年\tkaisai_nen  \n",
    "5\t開催月日\tkaisai_tsukihi  \n",
    "6\t競馬場コード\tkeibajo_code  \n",
    "7\t開催回[第N回]\tkaisai_kai  \n",
    "8\t開催日目[N日目]\tkaisai_nichime  \n",
    "9\tレース番号\trace_bango  \n",
    "10\t枠番\twakuban  \n",
    "11\t馬番\tumaban  \n",
    "12\t血統登録番号\tketto_toroku_bango  \n",
    "13\t馬名\tbamei  \n",
    "14\t馬記号コード\tumakigo_code  \n",
    "15\t性別コード\tseibetsu_code  \n",
    "16\t品種コード\thinshu_code  \n",
    "17\t毛色コード\tmoshoku_code  \n",
    "18\t馬齢\tbarei  \n",
    "19\t東西所属コード\ttozai_shozoku_code  \n",
    "20\t調教師コード\tchokyoshi_code  \n",
    "     21\t調教師名略称\tchokyoshimei_ryakusho  \n",
    "22\t馬主コード\tbanushi_code  \n",
    "23\t馬主名(法人格無)\tbanushimei  \n",
    "     24\t服色標示\tfukushoku_hyoji  \n",
    "     25\t予備\tyobi_1  \n",
    "26\t負担重量\tfutan_juryo  \n",
    "     27\t変更前負担重量\tfutan_juryo_henkomae  \n",
    "28\tブリンカー使用区分\tblinker_shiyo_kubun  \n",
    "     29\t予備\tyobi_2  \n",
    "30\t騎手コード\tkishu_code  \n",
    "     31\t変更前騎手コード\tkishu_code_henkomae  \n",
    "32\t騎手名略称\tkishumei_ryakusho  \n",
    "     33\t変更前騎手名略称\tkishumei_ryakusho_henkomae  \n",
    "34\t騎手見習コード\tkishu_minarai_code  \n",
    "     35\t変更前騎手見習コード\tkishu_minarai_code_henkomae  \n",
    "36\t馬体重\tbataiju  \n",
    "37\t増減符号\tzogen_fugo  \n",
    "38\t増減差\tzogen_sa  \n",
    "39\t異常区分コード\tijo_kubun_code  \n",
    "40\t入線順位\tnyusen_juni  \n",
    "41\t確定着順\tkakutei_chakujun  \n",
    "42\t同着区分\tdochaku_kubun  \n",
    "43\t同着頭数\tdochaku_tosu  \n",
    "44\t走破タイム\tsoha_time  \n",
    "45\t着差コード\tchakusa_code_1  \n",
    "46\t＋着差コード\tchakusa_code_2  \n",
    "47\t＋＋着差コード\tchakusa_code_3  \n",
    "48\t1コーナーでの順位\tcorner_1  \n",
    "49\t2コーナーでの順位\tcorner_2  \n",
    "50\t3コーナーでの順位\tcorner_3  \n",
    "51\t4コーナーでの順位\tcorner_4  \n",
    "52\t単勝オッズ\ttansho_odds  \n",
    "53\t単勝人気順\ttansho_ninkijun  \n",
    "54\t獲得本賞金\tkakutoku_honshokin  \n",
    "55\t獲得付加賞金\tkakutoku_fukashokin  \n",
    "     56\t予備\tyobi_3  \n",
    "     57\t予備\tyobi_4  \n",
    "58\t後4ハロンタイム\tkohan_4f  \n",
    "59\t後3ハロンタイム\tkohan_3f  \n",
    "60\t1着馬(相手馬)情報1\taiteuma_joho_1  \n",
    "61\t1着馬(相手馬)情報2\taiteuma_joho_2  \n",
    "62\t1着馬(相手馬)情報3\taiteuma_joho_3  \n",
    "63\tタイム差\ttime_sa  \n",
    "64\tレコード更新区分\trecord_koshin_kubun  \n",
    "     65\tマイニング区分\tmining_kubun  \n",
    "     66\tマイニング予想走破タイム\tyoso_soha_time  \n",
    "     67\tマイニング予想誤差(信頼度)＋\tyoso_gosa_plus  \n",
    "     68\tマイニング予想誤差(信頼度)－\tyoso_gosa_minus  \n",
    "     69\tマイニング予想順位\tyoso_juni  \n",
    "70\t今回レース脚質判定\tkyakushitsu_hantei  "
   ]
  },
  {
   "cell_type": "code",
   "execution_count": 1,
   "id": "4e5d18bf-3d1a-4140-bacf-96130879143e",
   "metadata": {},
   "outputs": [],
   "source": [
    "columns = [ 'kaisai_nen',\n",
    "            'kaisai_tsukihi',\n",
    "            'keibajo_code',\n",
    "            'kaisai_kai',\n",
    "            'kaisai_nichime',\n",
    "            'race_bango',\n",
    "            'wakuban',\n",
    "            'umaban',\n",
    "            'ketto_toroku_bango',\n",
    "            'bamei',\n",
    "            'umakigo_code',\n",
    "            'seibetsu_code',\n",
    "            'hinshu_code',\n",
    "            'moshoku_code',\n",
    "            'barei',\n",
    "            'tozai_shozoku_code',\n",
    "            'chokyoshi_code',\n",
    "            'banushi_code',\n",
    "            'banushimei',\n",
    "            'futan_juryo',\n",
    "            'blinker_shiyo_kubun',\n",
    "            'kishu_code',\n",
    "            'kishumei_ryakusho',\n",
    "            'kishu_minarai_code',\n",
    "            'bataiju',\n",
    "            'zogen_fugo',\n",
    "            'zogen_sa',\n",
    "            'ijo_kubun_code',\n",
    "            'nyusen_juni',\n",
    "            'kakutei_chakujun',\n",
    "            'dochaku_kubun',\n",
    "            'dochaku_tosu',\n",
    "            'soha_time',\n",
    "            'chakusa_code_1',\n",
    "            'chakusa_code_2',\n",
    "            'chakusa_code_3',\n",
    "            'corner_1',\n",
    "            'corner_2',\n",
    "            'corner_3',\n",
    "            'corner_4',\n",
    "            'tansho_odds',\n",
    "            'tansho_ninkijun',\n",
    "            'kakutoku_honshokin',\n",
    "            'kakutoku_fukashokin',\n",
    "            'kohan_4f',\n",
    "            'kohan_3f',\n",
    "            'aiteuma_joho_1',\n",
    "            'aiteuma_joho_2',\n",
    "            'aiteuma_joho_3',\n",
    "            'time_sa',\n",
    "            'record_koshin_kubun',\n",
    "            'kyakushitsu_hantei',\n",
    "            ]"
   ]
  },
  {
   "cell_type": "markdown",
   "id": "72ca9841-adc6-4612-b82f-f2f94a32faa7",
   "metadata": {},
   "source": [
    "# preparation"
   ]
  },
  {
   "cell_type": "code",
   "execution_count": 2,
   "id": "5c5e3421-37ca-4d81-be58-0d51a09c5561",
   "metadata": {
    "scrolled": true
   },
   "outputs": [],
   "source": [
    "import pandas as pd"
   ]
  },
  {
   "cell_type": "code",
   "execution_count": 3,
   "id": "11351b30-8083-423f-a50c-46bfde76436b",
   "metadata": {},
   "outputs": [],
   "source": [
    "uma_race_df = pd.read_pickle('../../targetdata/n_uma_race.pkl')\n",
    "uma_race_df = uma_race_df[columns]"
   ]
  },
  {
   "cell_type": "markdown",
   "id": "ce34a890-aa9a-4216-a861-770ed69a8f7b",
   "metadata": {},
   "source": [
    "# cleansing"
   ]
  },
  {
   "cell_type": "markdown",
   "id": "f5b9675d-efbc-459a-98c9-cd0547b30d44",
   "metadata": {},
   "source": [
    "### オブジェクト型を数値型に変換"
   ]
  },
  {
   "cell_type": "code",
   "execution_count": 4,
   "id": "f43f40b5-96f8-4afc-874f-6615b0c78863",
   "metadata": {},
   "outputs": [],
   "source": [
    "# 数値化したいカラムのリスト\n",
    "columns_to_convert = [  'kaisai_nen',\n",
    "                        'kaisai_tsukihi',\n",
    "                        #'keibajo_code',\n",
    "                        'kaisai_kai',\n",
    "                        'kaisai_nichime',\n",
    "                        'race_bango',\n",
    "                        'wakuban',\n",
    "                        'umaban',\n",
    "                        'ketto_toroku_bango',\n",
    "                        #'bamei',\n",
    "                        'umakigo_code',\n",
    "                        'seibetsu_code',\n",
    "                        'hinshu_code',\n",
    "                        'moshoku_code',\n",
    "                        'barei',\n",
    "                        'tozai_shozoku_code',\n",
    "                        'chokyoshi_code',\n",
    "                        'banushi_code',\n",
    "                        #'banushimei',\n",
    "                        'futan_juryo',\n",
    "                        'blinker_shiyo_kubun',\n",
    "                        'kishu_code',\n",
    "                        #'kishumei_ryakusho',\n",
    "                        'kishu_minarai_code',\n",
    "                        'bataiju',\n",
    "                        #'zogen_fugo',\n",
    "                        'zogen_sa',\n",
    "                        'ijo_kubun_code',\n",
    "                        'nyusen_juni',\n",
    "                        'kakutei_chakujun',\n",
    "                        'dochaku_kubun',\n",
    "                        'dochaku_tosu',\n",
    "                        'soha_time',\n",
    "                        'chakusa_code_1',\n",
    "                        'chakusa_code_2',\n",
    "                        'chakusa_code_3',\n",
    "                        'corner_1',\n",
    "                        'corner_2',\n",
    "                        'corner_3',\n",
    "                        'corner_4',\n",
    "                        'tansho_odds',\n",
    "                        'tansho_ninkijun',\n",
    "                        'kakutoku_honshokin',\n",
    "                        'kakutoku_fukashokin',\n",
    "                        'kohan_4f',\n",
    "                        'kohan_3f',\n",
    "                        #'aiteuma_joho_1',\n",
    "                        #'aiteuma_joho_2',\n",
    "                        #'aiteuma_joho_3',\n",
    "                        'time_sa',\n",
    "                        'record_koshin_kubun',\n",
    "                        'kyakushitsu_hantei',\n",
    "                        ]"
   ]
  },
  {
   "cell_type": "code",
   "execution_count": 5,
   "id": "2ed20a0d-6964-45b3-9128-d5d97201afbc",
   "metadata": {},
   "outputs": [
    {
     "name": "stdout",
     "output_type": "stream",
     "text": [
      "kaisai_nen の欠損値の量: 0\n",
      "kaisai_tsukihi の欠損値の量: 0\n",
      "kaisai_kai の欠損値の量: 0\n",
      "kaisai_nichime の欠損値の量: 0\n",
      "race_bango の欠損値の量: 0\n",
      "wakuban の欠損値の量: 0\n",
      "umaban の欠損値の量: 0\n",
      "ketto_toroku_bango の欠損値の量: 0\n",
      "umakigo_code の欠損値の量: 0\n",
      "seibetsu_code の欠損値の量: 0\n",
      "hinshu_code の欠損値の量: 0\n",
      "moshoku_code の欠損値の量: 0\n",
      "barei の欠損値の量: 0\n",
      "tozai_shozoku_code の欠損値の量: 0\n",
      "chokyoshi_code の欠損値の量: 0\n",
      "banushi_code の欠損値の量: 0\n",
      "futan_juryo の欠損値の量: 0\n",
      "blinker_shiyo_kubun の欠損値の量: 0\n",
      "kishu_code の欠損値の量: 0\n",
      "kishu_minarai_code の欠損値の量: 0\n",
      "bataiju の欠損値の量: 1467\n",
      "zogen_sa の欠損値の量: 1467\n",
      "ijo_kubun_code の欠損値の量: 0\n",
      "nyusen_juni の欠損値の量: 0\n",
      "kakutei_chakujun の欠損値の量: 0\n",
      "dochaku_kubun の欠損値の量: 0\n",
      "dochaku_tosu の欠損値の量: 0\n",
      "soha_time の欠損値の量: 0\n",
      "chakusa_code_1 の欠損値の量: 1467\n",
      "chakusa_code_2 の欠損値の量: 1467\n",
      "chakusa_code_3 の欠損値の量: 1467\n",
      "corner_1 の欠損値の量: 0\n",
      "corner_2 の欠損値の量: 0\n",
      "corner_3 の欠損値の量: 0\n",
      "corner_4 の欠損値の量: 0\n",
      "tansho_odds の欠損値の量: 0\n",
      "tansho_ninkijun の欠損値の量: 0\n",
      "kakutoku_honshokin の欠損値の量: 0\n",
      "kakutoku_fukashokin の欠損値の量: 0\n",
      "kohan_4f の欠損値の量: 0\n",
      "kohan_3f の欠損値の量: 0\n",
      "time_sa の欠損値の量: 0\n",
      "record_koshin_kubun の欠損値の量: 0\n",
      "kyakushitsu_hantei の欠損値の量: 0\n"
     ]
    }
   ],
   "source": [
    "# 各カラムを数値化し、欠損値の量を調べる\n",
    "for column in columns_to_convert:\n",
    "    uma_race_df[column] = pd.to_numeric(uma_race_df[column], errors='coerce')\n",
    "    missing_values = uma_race_df[column].isna().sum()\n",
    "    print(f\"{column} の欠損値の量: {missing_values}\")"
   ]
  },
  {
   "cell_type": "markdown",
   "id": "2a8f6a71-f8c4-4d90-b5b3-d7078111e649",
   "metadata": {},
   "source": [
    "## ユニークな値を確認"
   ]
  },
  {
   "cell_type": "markdown",
   "id": "fd696343-e19b-4b17-8795-1e8d92f73546",
   "metadata": {},
   "source": [
    "### kaisai_nen（開催年）"
   ]
  },
  {
   "cell_type": "code",
   "execution_count": 6,
   "id": "fd535b08-48c5-49f0-9fa0-c58fff7d7fae",
   "metadata": {},
   "outputs": [
    {
     "data": {
      "text/plain": [
       "kaisai_nen\n",
       "2023    1467\n",
       "Name: count, dtype: int64"
      ]
     },
     "execution_count": 6,
     "metadata": {},
     "output_type": "execute_result"
    }
   ],
   "source": [
    "uma_race_df['kaisai_nen'].value_counts()"
   ]
  },
  {
   "cell_type": "markdown",
   "id": "98a0fafd-990b-4bb8-a1e5-d5ba25d5f48b",
   "metadata": {},
   "source": [
    "### keibajo_code（競馬場コード）"
   ]
  },
  {
   "cell_type": "code",
   "execution_count": 7,
   "id": "3c91aa68-d28e-40a5-89ce-41e3fc6d68fd",
   "metadata": {},
   "outputs": [
    {
     "data": {
      "text/plain": [
       "keibajo_code\n",
       "48    391\n",
       "42    351\n",
       "44    258\n",
       "30    251\n",
       "50    216\n",
       "Name: count, dtype: int64"
      ]
     },
     "execution_count": 7,
     "metadata": {},
     "output_type": "execute_result"
    }
   ],
   "source": [
    "uma_race_df['keibajo_code'].value_counts()"
   ]
  },
  {
   "cell_type": "markdown",
   "id": "523fa9cd-948e-4e71-8ce6-09eefcc39707",
   "metadata": {},
   "source": [
    "### ketto_toroku_bango（血統登録番号）"
   ]
  },
  {
   "cell_type": "code",
   "execution_count": 8,
   "id": "841aaec4-46da-401f-afe3-8ad60dcbb96f",
   "metadata": {},
   "outputs": [
    {
     "data": {
      "text/plain": [
       "ketto_toroku_bango\n",
       "2021102476    1\n",
       "2021103833    1\n",
       "2021101472    1\n",
       "2021103182    1\n",
       "2021103187    1\n",
       "             ..\n",
       "2014100181    1\n",
       "2019101804    1\n",
       "2015106112    1\n",
       "2019103836    1\n",
       "2021105240    1\n",
       "Name: count, Length: 1467, dtype: int64"
      ]
     },
     "execution_count": 8,
     "metadata": {},
     "output_type": "execute_result"
    }
   ],
   "source": [
    "uma_race_df['ketto_toroku_bango'].value_counts()"
   ]
  },
  {
   "cell_type": "markdown",
   "id": "8b135c42-878b-45b2-a01d-6364fe582797",
   "metadata": {},
   "source": [
    "### umakigo_code（馬記号コード）"
   ]
  },
  {
   "cell_type": "markdown",
   "id": "ca1a893e-cb33-41db-8dac-2194d19c86f7",
   "metadata": {},
   "source": [
    "00\t下記以外　または未設定・未整備時の初期値(主に地方競馬・海外国際レースに関するデータ)  \n",
    "05\t(地)\t(R)\tＪＲＡの馬名登録のとき、すでに地方競馬に出走したことのある馬であって [抽] 以外の馬  \n",
    "06\t(外)\t(F)\t外国産馬であって [外] 以外の馬  \n",
    "21 (外)(地)\t(F)(R)\t  \n",
    "11 [地]\t[R]\t中央競馬に出走する地方競馬所属の馬  \n",
    "26 [外]\t[F]\t中央競馬に出走する以前に外国の競馬に出走したことのある外国産馬  "
   ]
  },
  {
   "cell_type": "code",
   "execution_count": 9,
   "id": "6f629989-68ac-4772-9714-9db1e005cbe1",
   "metadata": {},
   "outputs": [
    {
     "data": {
      "text/plain": [
       "umakigo_code\n",
       "0    1467\n",
       "Name: count, dtype: int64"
      ]
     },
     "execution_count": 9,
     "metadata": {},
     "output_type": "execute_result"
    }
   ],
   "source": [
    "#UmaKigoCD（馬記号コード）の値と個数\n",
    "uma_race_df['umakigo_code'].value_counts()"
   ]
  },
  {
   "cell_type": "markdown",
   "id": "5db42b89-9f95-43dc-b741-a0b13adc9c3f",
   "metadata": {},
   "source": [
    "### bataiju（馬体重）"
   ]
  },
  {
   "cell_type": "code",
   "execution_count": 10,
   "id": "ed816699-955e-414b-86b0-0bc2d4998549",
   "metadata": {},
   "outputs": [
    {
     "data": {
      "text/plain": [
       "Series([], Name: count, dtype: int64)"
      ]
     },
     "execution_count": 10,
     "metadata": {},
     "output_type": "execute_result"
    }
   ],
   "source": [
    "#BaTaijyu（馬体重）の値と個数\n",
    "uma_race_df['bataiju'].value_counts()"
   ]
  },
  {
   "cell_type": "markdown",
   "id": "002958de-8a62-4b0c-82b1-4305a0999bce",
   "metadata": {},
   "source": [
    "### zogen_fugo（増減符号）"
   ]
  },
  {
   "cell_type": "code",
   "execution_count": 11,
   "id": "525da1ae-6de7-4b05-9fc9-3fb7067eab5f",
   "metadata": {},
   "outputs": [],
   "source": [
    "# マッピング辞書\n",
    "mapping = {\n",
    "            '+': 2,\n",
    "            ' ':1,\n",
    "            '-': 0  \n",
    "            }\n",
    "# 'zogenfugo' エンコード\n",
    "uma_race_df['zogen_fugo'] = uma_race_df['zogen_fugo'].map(mapping)"
   ]
  },
  {
   "cell_type": "code",
   "execution_count": 12,
   "id": "5086450a-8003-44f5-a345-04ee5e872f4d",
   "metadata": {},
   "outputs": [
    {
     "data": {
      "text/plain": [
       "Series([], Name: count, dtype: int64)"
      ]
     },
     "execution_count": 12,
     "metadata": {},
     "output_type": "execute_result"
    }
   ],
   "source": [
    "#ZogenFugo（増減符号）\n",
    "uma_race_df['zogen_fugo'].value_counts()"
   ]
  },
  {
   "cell_type": "markdown",
   "id": "d54eb543-2567-4d0a-9ba3-339b426d592a",
   "metadata": {},
   "source": [
    "### kyakushitsu_hantei（今回レース脚質判定）"
   ]
  },
  {
   "cell_type": "markdown",
   "id": "561ef8a5-5407-4eef-b7d8-1f30c07663d6",
   "metadata": {},
   "source": [
    "1:逃　  \n",
    "2:先　  \n",
    "3:差　  \n",
    "4:追　  \n",
    "0:初期値  "
   ]
  },
  {
   "cell_type": "code",
   "execution_count": 13,
   "id": "8ffe491d-cce5-4759-8a12-8a8b6f9ef709",
   "metadata": {},
   "outputs": [
    {
     "data": {
      "text/plain": [
       "kyakushitsu_hantei\n",
       "0    1467\n",
       "Name: count, dtype: int64"
      ]
     },
     "execution_count": 13,
     "metadata": {},
     "output_type": "execute_result"
    }
   ],
   "source": [
    "#kyakushitsu_hantei（今回レース脚質判定）の値と個数\n",
    "uma_race_df['kyakushitsu_hantei'].value_counts()"
   ]
  },
  {
   "cell_type": "markdown",
   "id": "3fb421f3-82e5-473c-9863-8e740291889e",
   "metadata": {},
   "source": [
    "### kakutei_chakujun（確定着順）"
   ]
  },
  {
   "cell_type": "code",
   "execution_count": 14,
   "id": "c821244f-1604-466a-ad71-a27ac9f12fae",
   "metadata": {},
   "outputs": [
    {
     "data": {
      "text/plain": [
       "kakutei_chakujun\n",
       "0    1467\n",
       "Name: count, dtype: int64"
      ]
     },
     "execution_count": 14,
     "metadata": {},
     "output_type": "execute_result"
    }
   ],
   "source": [
    "#kakutei_chakujun（確定着順）を数値型に\n",
    "uma_race_df['kakutei_chakujun'].value_counts()"
   ]
  },
  {
   "cell_type": "markdown",
   "id": "a24d6aff-9c74-49c3-8810-7e550abad05f",
   "metadata": {},
   "source": [
    "# save as pickle"
   ]
  },
  {
   "cell_type": "code",
   "execution_count": 15,
   "id": "62618162-3a74-445c-a114-3761fe4da233",
   "metadata": {},
   "outputs": [],
   "source": [
    "uma_race_df.to_pickle('../../targetdata/n_uma_race.pkl')"
   ]
  }
 ],
 "metadata": {
  "kernelspec": {
   "display_name": "Python 3 (ipykernel)",
   "language": "python",
   "name": "python3"
  },
  "language_info": {
   "codemirror_mode": {
    "name": "ipython",
    "version": 3
   },
   "file_extension": ".py",
   "mimetype": "text/x-python",
   "name": "python",
   "nbconvert_exporter": "python",
   "pygments_lexer": "ipython3",
   "version": "3.9.17"
  }
 },
 "nbformat": 4,
 "nbformat_minor": 5
}

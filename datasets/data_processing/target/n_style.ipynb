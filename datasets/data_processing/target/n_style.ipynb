{
 "cells": [
  {
   "cell_type": "code",
   "execution_count": 1,
   "id": "08180d4c-02b3-4a46-b21e-e4200fc51465",
   "metadata": {},
   "outputs": [],
   "source": [
    "import pandas as pd\n",
    "import pickle"
   ]
  },
  {
   "cell_type": "code",
   "execution_count": 2,
   "id": "ef159fad-3df7-453e-8adf-dab057d59746",
   "metadata": {},
   "outputs": [],
   "source": [
    "n_style_df = pd.read_csv(\"../../targetdata/rawdata/n_style.csv\")"
   ]
  },
  {
   "cell_type": "code",
   "execution_count": 3,
   "id": "709e7b44-f18e-461b-adf7-f1aa90145951",
   "metadata": {},
   "outputs": [
    {
     "data": {
      "text/html": [
       "<div>\n",
       "<style scoped>\n",
       "    .dataframe tbody tr th:only-of-type {\n",
       "        vertical-align: middle;\n",
       "    }\n",
       "\n",
       "    .dataframe tbody tr th {\n",
       "        vertical-align: top;\n",
       "    }\n",
       "\n",
       "    .dataframe thead th {\n",
       "        text-align: right;\n",
       "    }\n",
       "</style>\n",
       "<table border=\"1\" class=\"dataframe\">\n",
       "  <thead>\n",
       "    <tr style=\"text-align: right;\">\n",
       "      <th></th>\n",
       "      <th>race_id</th>\n",
       "      <th>race_venue</th>\n",
       "      <th>racenum</th>\n",
       "      <th>year</th>\n",
       "      <th>monthday</th>\n",
       "      <th>frame_number</th>\n",
       "      <th>horse_number</th>\n",
       "      <th>style</th>\n",
       "    </tr>\n",
       "  </thead>\n",
       "  <tbody>\n",
       "    <tr>\n",
       "      <th>0</th>\n",
       "      <td>202342092201</td>\n",
       "      <td>浦和</td>\n",
       "      <td>1</td>\n",
       "      <td>2023</td>\n",
       "      <td>922</td>\n",
       "      <td>1</td>\n",
       "      <td>1</td>\n",
       "      <td>差し</td>\n",
       "    </tr>\n",
       "    <tr>\n",
       "      <th>1</th>\n",
       "      <td>202342092201</td>\n",
       "      <td>浦和</td>\n",
       "      <td>1</td>\n",
       "      <td>2023</td>\n",
       "      <td>922</td>\n",
       "      <td>2</td>\n",
       "      <td>2</td>\n",
       "      <td>差し</td>\n",
       "    </tr>\n",
       "    <tr>\n",
       "      <th>2</th>\n",
       "      <td>202342092201</td>\n",
       "      <td>浦和</td>\n",
       "      <td>1</td>\n",
       "      <td>2023</td>\n",
       "      <td>922</td>\n",
       "      <td>3</td>\n",
       "      <td>3</td>\n",
       "      <td>追込</td>\n",
       "    </tr>\n",
       "    <tr>\n",
       "      <th>3</th>\n",
       "      <td>202342092201</td>\n",
       "      <td>浦和</td>\n",
       "      <td>1</td>\n",
       "      <td>2023</td>\n",
       "      <td>922</td>\n",
       "      <td>4</td>\n",
       "      <td>4</td>\n",
       "      <td>差し</td>\n",
       "    </tr>\n",
       "    <tr>\n",
       "      <th>4</th>\n",
       "      <td>202342092201</td>\n",
       "      <td>浦和</td>\n",
       "      <td>1</td>\n",
       "      <td>2023</td>\n",
       "      <td>922</td>\n",
       "      <td>5</td>\n",
       "      <td>5</td>\n",
       "      <td>差し</td>\n",
       "    </tr>\n",
       "    <tr>\n",
       "      <th>...</th>\n",
       "      <td>...</td>\n",
       "      <td>...</td>\n",
       "      <td>...</td>\n",
       "      <td>...</td>\n",
       "      <td>...</td>\n",
       "      <td>...</td>\n",
       "      <td>...</td>\n",
       "      <td>...</td>\n",
       "    </tr>\n",
       "    <tr>\n",
       "      <th>466</th>\n",
       "      <td>202350092212</td>\n",
       "      <td>園田</td>\n",
       "      <td>12</td>\n",
       "      <td>2023</td>\n",
       "      <td>922</td>\n",
       "      <td>4</td>\n",
       "      <td>4</td>\n",
       "      <td>追込</td>\n",
       "    </tr>\n",
       "    <tr>\n",
       "      <th>467</th>\n",
       "      <td>202350092212</td>\n",
       "      <td>園田</td>\n",
       "      <td>12</td>\n",
       "      <td>2023</td>\n",
       "      <td>922</td>\n",
       "      <td>5</td>\n",
       "      <td>5</td>\n",
       "      <td>差し</td>\n",
       "    </tr>\n",
       "    <tr>\n",
       "      <th>468</th>\n",
       "      <td>202350092212</td>\n",
       "      <td>園田</td>\n",
       "      <td>12</td>\n",
       "      <td>2023</td>\n",
       "      <td>922</td>\n",
       "      <td>6</td>\n",
       "      <td>6</td>\n",
       "      <td>差し</td>\n",
       "    </tr>\n",
       "    <tr>\n",
       "      <th>469</th>\n",
       "      <td>202350092212</td>\n",
       "      <td>園田</td>\n",
       "      <td>12</td>\n",
       "      <td>2023</td>\n",
       "      <td>922</td>\n",
       "      <td>7</td>\n",
       "      <td>7</td>\n",
       "      <td>差し</td>\n",
       "    </tr>\n",
       "    <tr>\n",
       "      <th>470</th>\n",
       "      <td>202350092212</td>\n",
       "      <td>園田</td>\n",
       "      <td>12</td>\n",
       "      <td>2023</td>\n",
       "      <td>922</td>\n",
       "      <td>8</td>\n",
       "      <td>8</td>\n",
       "      <td>差し</td>\n",
       "    </tr>\n",
       "  </tbody>\n",
       "</table>\n",
       "<p>471 rows × 8 columns</p>\n",
       "</div>"
      ],
      "text/plain": [
       "          race_id race_venue  racenum  year  monthday  frame_number  \\\n",
       "0    202342092201         浦和        1  2023       922             1   \n",
       "1    202342092201         浦和        1  2023       922             2   \n",
       "2    202342092201         浦和        1  2023       922             3   \n",
       "3    202342092201         浦和        1  2023       922             4   \n",
       "4    202342092201         浦和        1  2023       922             5   \n",
       "..            ...        ...      ...   ...       ...           ...   \n",
       "466  202350092212         園田       12  2023       922             4   \n",
       "467  202350092212         園田       12  2023       922             5   \n",
       "468  202350092212         園田       12  2023       922             6   \n",
       "469  202350092212         園田       12  2023       922             7   \n",
       "470  202350092212         園田       12  2023       922             8   \n",
       "\n",
       "     horse_number style  \n",
       "0               1    差し  \n",
       "1               2    差し  \n",
       "2               3    追込  \n",
       "3               4    差し  \n",
       "4               5    差し  \n",
       "..            ...   ...  \n",
       "466             4    追込  \n",
       "467             5    差し  \n",
       "468             6    差し  \n",
       "469             7    差し  \n",
       "470             8    差し  \n",
       "\n",
       "[471 rows x 8 columns]"
      ]
     },
     "execution_count": 3,
     "metadata": {},
     "output_type": "execute_result"
    }
   ],
   "source": [
    "n_style_df"
   ]
  },
  {
   "cell_type": "markdown",
   "id": "e6faaeb2-452a-4e39-bbbb-1322866dfd78",
   "metadata": {},
   "source": [
    "# style"
   ]
  },
  {
   "cell_type": "code",
   "execution_count": 4,
   "id": "11de367d-6bdc-4b25-bc8f-dce2409558ef",
   "metadata": {},
   "outputs": [
    {
     "data": {
      "text/plain": [
       "array(['差し', '追込', '先行', '逃げ', '不明'], dtype=object)"
      ]
     },
     "execution_count": 4,
     "metadata": {},
     "output_type": "execute_result"
    }
   ],
   "source": [
    "n_style_df['style'].unique()"
   ]
  },
  {
   "cell_type": "code",
   "execution_count": 5,
   "id": "4cccba4a-61ce-43c2-9499-8b1a8be154f0",
   "metadata": {},
   "outputs": [],
   "source": [
    "# マッピングのルールを定義\n",
    "style_mapping = {\n",
    "    '逃げ': '1',\n",
    "    '先行': '2',\n",
    "    '差し': '3',\n",
    "    '追込': '4',\n",
    "    '不明': '0'\n",
    "}\n",
    "\n",
    "n_style_df['style'] = n_style_df['style'].map(style_mapping).fillna(0)"
   ]
  },
  {
   "cell_type": "code",
   "execution_count": 6,
   "id": "57102a19-95a1-4bd0-97b6-246b3a64c8a1",
   "metadata": {},
   "outputs": [
    {
     "data": {
      "text/plain": [
       "array(['3', '4', '2', '1', '0'], dtype=object)"
      ]
     },
     "execution_count": 6,
     "metadata": {},
     "output_type": "execute_result"
    }
   ],
   "source": [
    "n_style_df['style'].unique()"
   ]
  },
  {
   "cell_type": "markdown",
   "id": "45565be0-1263-4412-a59b-7bd981533069",
   "metadata": {},
   "source": [
    "# race_venue"
   ]
  },
  {
   "cell_type": "code",
   "execution_count": 7,
   "id": "8d1a0c44-2d5f-430d-aeca-a00b474af42d",
   "metadata": {},
   "outputs": [
    {
     "data": {
      "text/plain": [
       "array(['浦和', '大井', '名古屋', '園田'], dtype=object)"
      ]
     },
     "execution_count": 7,
     "metadata": {},
     "output_type": "execute_result"
    }
   ],
   "source": [
    "n_style_df['race_venue'].unique()"
   ]
  },
  {
   "cell_type": "code",
   "execution_count": 8,
   "id": "bc743297-9790-4731-96b2-8831fb9c40f9",
   "metadata": {},
   "outputs": [],
   "source": [
    "# マッピングのルールを定義\n",
    "race_venue_mapping = {\n",
    "    '札幌': '01',\n",
    "    '函館': '02',\n",
    "    '福島': '03',\n",
    "    '新潟': '04',\n",
    "    '東京': '05',\n",
    "    '中山': '06',\n",
    "    '中京': '07',\n",
    "    '京都': '08',\n",
    "    '阪神': '09',\n",
    "    '小倉': '10',\n",
    "    '門別': '30',\n",
    "    '北見': '31',\n",
    "    '岩見沢': '32',\n",
    "    '帯広': '33',\n",
    "    '旭川': '34',\n",
    "    '盛岡': '35',\n",
    "    '水沢': '36',\n",
    "    '上山': '37',\n",
    "    '三条': '38',\n",
    "    '足利': '39',\n",
    "    '宇都宮': '40',\n",
    "    '高崎': '41',\n",
    "    '浦和': '42',\n",
    "    '船橋': '43',\n",
    "    '大井': '44',\n",
    "    '川崎': '45',\n",
    "    '金沢': '46',\n",
    "    '笠松': '47',\n",
    "    '名古屋': '48',\n",
    "    '紀三井寺': '49',\n",
    "    '園田': '50',\n",
    "    '姫路': '51',\n",
    "    '益田': '52',\n",
    "    '福山': '53',\n",
    "    '高知': '54',\n",
    "    '佐賀': '55',\n",
    "    '荒尾': '56',\n",
    "    '中津': '57',\n",
    "    '札幌（地方競馬）': '58',\n",
    "    '函館（地方競馬）': '59',\n",
    "    '新潟（地方競馬）': '60',\n",
    "    '中京（地方競馬）': '61',\n",
    "    '未設定・未整備時': '00'\n",
    "}\n",
    "\n",
    "n_style_df['race_venue'] = n_style_df['race_venue'].map(race_venue_mapping).fillna(0)"
   ]
  },
  {
   "cell_type": "code",
   "execution_count": 9,
   "id": "e75b21a1-cec1-45c3-9fff-8924d3d53008",
   "metadata": {},
   "outputs": [
    {
     "data": {
      "text/plain": [
       "array(['42', '44', '48', '50'], dtype=object)"
      ]
     },
     "execution_count": 9,
     "metadata": {},
     "output_type": "execute_result"
    }
   ],
   "source": [
    "n_style_df['race_venue'].unique()"
   ]
  },
  {
   "cell_type": "code",
   "execution_count": 10,
   "id": "0066cb93-5801-4f0f-afcf-2c350fd69f3a",
   "metadata": {},
   "outputs": [],
   "source": [
    "# カラム名のマッピングルールを定義\n",
    "column_mapping = {\n",
    "    'race_venue': 'keibajo_code',\n",
    "    'racenum': 'race_bango',\n",
    "    'year': 'kaisai_nen',\n",
    "    'monthday': 'kaisai_tsukihi',\n",
    "    'frame_number': 'wakuban',\n",
    "    'horse_number': 'umaban',\n",
    "    'style': 'kyakushitsu_hantei'\n",
    "}\n",
    "\n",
    "n_style_df.rename(columns=column_mapping, inplace=True)"
   ]
  },
  {
   "cell_type": "code",
   "execution_count": 11,
   "id": "2039d215-4056-452d-84d2-141d1da68cbf",
   "metadata": {},
   "outputs": [],
   "source": [
    "# 数値化したいカラムのリスト\n",
    "columns_to_convert = [\n",
    "                    'keibajo_code',\n",
    "                    'race_bango',\n",
    "                    'kaisai_nen',\n",
    "                    'kaisai_tsukihi',\n",
    "                    'wakuban',\n",
    "                    'umaban',\n",
    "                    'kyakushitsu_hantei'\n",
    "                    ]"
   ]
  },
  {
   "cell_type": "code",
   "execution_count": 12,
   "id": "09ce60c5-297b-434e-a507-ac69fa14a768",
   "metadata": {},
   "outputs": [
    {
     "name": "stdout",
     "output_type": "stream",
     "text": [
      "keibajo_code の欠損値の量: 0\n",
      "race_bango の欠損値の量: 0\n",
      "kaisai_nen の欠損値の量: 0\n",
      "kaisai_tsukihi の欠損値の量: 0\n",
      "wakuban の欠損値の量: 0\n",
      "umaban の欠損値の量: 0\n",
      "kyakushitsu_hantei の欠損値の量: 0\n"
     ]
    }
   ],
   "source": [
    "# 各カラムを数値化し、欠損値の量を調べる\n",
    "for column in columns_to_convert:\n",
    "    n_style_df[column] = pd.to_numeric(n_style_df[column], errors='coerce')\n",
    "    missing_values = n_style_df[column].isna().sum()\n",
    "    print(f\"{column} の欠損値の量: {missing_values}\")"
   ]
  },
  {
   "cell_type": "code",
   "execution_count": 13,
   "id": "b97ba432-5839-44fd-8ae7-c076769be829",
   "metadata": {},
   "outputs": [],
   "source": [
    "n_style_df = n_style_df[columns_to_convert]\n",
    "n_style_df.to_pickle('../../targetdata/n_style.pkl')"
   ]
  }
 ],
 "metadata": {
  "kernelspec": {
   "display_name": "Python 3 (ipykernel)",
   "language": "python",
   "name": "python3"
  },
  "language_info": {
   "codemirror_mode": {
    "name": "ipython",
    "version": 3
   },
   "file_extension": ".py",
   "mimetype": "text/x-python",
   "name": "python",
   "nbconvert_exporter": "python",
   "pygments_lexer": "ipython3",
   "version": "3.9.17"
  }
 },
 "nbformat": 4,
 "nbformat_minor": 5
}

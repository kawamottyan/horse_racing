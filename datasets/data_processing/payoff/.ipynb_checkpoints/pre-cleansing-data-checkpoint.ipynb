{
 "cells": [
  {
   "cell_type": "markdown",
   "id": "e22628d5-d2e9-4652-acc6-30f0ca77c6fb",
   "metadata": {},
   "source": [
    "# columns info"
   ]
  },
  {
   "cell_type": "markdown",
   "id": "b9cc117d-9c85-4387-9f2a-d0bed6a90f4f",
   "metadata": {},
   "source": [
    "使用するカラム  \n",
    "    1\tレコード種別ID\trecord_id  \n",
    "    2\tデータ区分\tdata_kubun  \n",
    "    3\tデータ作成年月日\tdata_sakusei_nengappi  \n",
    "4\t開催年\tkaisai_nen  \n",
    "5\t開催月日\tkaisai_tsukihi  \n",
    "6\t競馬場コード\tkeibajo_code  \n",
    "7\t開催回[第N回]\tkaisai_kai  \n",
    "8\t開催日目[N日目]\tkaisai_nichime  \n",
    "9\tレース番号\trace_bango  \n",
    "10\t登録頭数\ttoroku_tosu  \n",
    "11\t出走頭数\tshusso_tosu  \n",
    "    12\t不成立フラグ　単勝\tfuseiritsu_flag_tansho  \n",
    "    13\t不成立フラグ　複勝\tfuseiritsu_flag_fukusho  \n",
    "    14\t不成立フラグ　枠連\tfuseiritsu_flag_wakuren  \n",
    "    15\t不成立フラグ　馬連\tfuseiritsu_flag_umaren  \n",
    "    16\t不成立フラグ　ワイド\tfuseiritsu_flag_wide  \n",
    "    17\t予備\tyobi_1  \n",
    "    18\t不成立フラグ　馬単\tfuseiritsu_flag_umatan  \n",
    "19\t不成立フラグ　3連複\tfuseiritsu_flag_sanrenpuku  \n",
    "    20\t不成立フラグ　3連単\tfuseiritsu_flag_sanrentan  \n",
    "    21\t特払フラグ　単勝\ttokubarai_flag_tansho  \n",
    "    22\t特払フラグ　複勝\ttokubarai_flag_fukusho  \n",
    "    23\t特払フラグ　枠連\ttokubarai_flag_wakuren  \n",
    "    24\t特払フラグ　馬連\ttokubarai_flag_umaren  \n",
    "    25\t特払フラグ　ワイド\ttokubarai_flag_wide  \n",
    "    26\t予備\tyobi_2  \n",
    "    27\t特払フラグ　馬単\ttokubarai_flag_umatan  \n",
    "28\t特払フラグ　3連複\ttokubarai_flag_sanrenpuku  \n",
    "    29\t特払フラグ　3連単\ttokubarai_flag_sanrentan  \n",
    "    30\t返還フラグ　単勝\thenkan_flag_tansho  \n",
    "    31\t返還フラグ　複勝\thenkan_flag_fukusho  \n",
    "    32\t返還フラグ　枠連\thenkan_flag_wakuren  \n",
    "    33\t返還フラグ　馬連\thenkan_flag_umaren  \n",
    "    34\t返還フラグ　ワイド\thenkan_flag_wide  \n",
    "    35\t予備\tyobi_3  \n",
    "    36\t返還フラグ　馬単\thenkan_flag_umatan  \n",
    "37\t返還フラグ　3連複\thenkan_flag_sanrenpuku  \n",
    "    38\t返還フラグ　3連単\thenkan_flag_sanrentan  \n",
    "    39\t返還馬番情報(馬番01～28)\thenkan_umaban_joho  \n",
    "    40\t返還枠番情報(枠番1～8)\thenkan_wakuban_joho  \n",
    "    41\t返還同枠情報(枠番1～8)\thenkan_dowaku_joho  \n",
    "    42\t単勝払戻1\tharaimodoshi_tansho_1a  \n",
    "    43\t単勝払戻1\tharaimodoshi_tansho_1b  \n",
    "    44\t単勝払戻1\tharaimodoshi_tansho_1c  \n",
    "    45\t単勝払戻2\tharaimodoshi_tansho_2a  \n",
    "    46\t単勝払戻2\tharaimodoshi_tansho_2b  \n",
    "    47\t単勝払戻2\tharaimodoshi_tansho_2c  \n",
    "    48\t単勝払戻3\tharaimodoshi_tansho_3a  \n",
    "    49\t単勝払戻3\tharaimodoshi_tansho_3b  \n",
    "    50\t単勝払戻3\tharaimodoshi_tansho_3c  \n",
    "    51\t複勝払戻1\tharaimodoshi_fukusho_1a  \n",
    "    52\t複勝払戻1\tharaimodoshi_fukusho_1b  \n",
    "    53\t複勝払戻1\tharaimodoshi_fukusho_1c  \n",
    "    54\t複勝払戻2\tharaimodoshi_fukusho_2a  \n",
    "    55\t複勝払戻2\tharaimodoshi_fukusho_2b  \n",
    "    56\t複勝払戻2\tharaimodoshi_fukusho_2c  \n",
    "    57\t複勝払戻3\tharaimodoshi_fukusho_3a  \n",
    "    58\t複勝払戻3\tharaimodoshi_fukusho_3b  \n",
    "    59\t複勝払戻3\tharaimodoshi_fukusho_3c  \n",
    "    60\t複勝払戻4\tharaimodoshi_fukusho_4a  \n",
    "    61\t複勝払戻4\tharaimodoshi_fukusho_4b  \n",
    "    62\t複勝払戻4\tharaimodoshi_fukusho_4c  \n",
    "    63\t複勝払戻5\tharaimodoshi_fukusho_5a  \n",
    "    64\t複勝払戻5\tharaimodoshi_fukusho_5b  \n",
    "    65\t複勝払戻5\tharaimodoshi_fukusho_5c  \n",
    "    66\t枠連払戻1\tharaimodoshi_wakuren_1a  \n",
    "    67\t枠連払戻1\tharaimodoshi_wakuren_1b  \n",
    "    68\t枠連払戻1\tharaimodoshi_wakuren_1c  \n",
    "    69\t枠連払戻2\tharaimodoshi_wakuren_2a  \n",
    "    70\t枠連払戻2\tharaimodoshi_wakuren_2b  \n",
    "    71\t枠連払戻2\tharaimodoshi_wakuren_2c  \n",
    "    72\t枠連払戻3\tharaimodoshi_wakuren_3a  \n",
    "    73\t枠連払戻3\tharaimodoshi_wakuren_3b  \n",
    "    74\t枠連払戻3\tharaimodoshi_wakuren_3c  \n",
    "    75\t馬連払戻1\tharaimodoshi_umaren_1a  \n",
    "    76\t馬連払戻1\tharaimodoshi_umaren_1b  \n",
    "    77\t馬連払戻1\tharaimodoshi_umaren_1c  \n",
    "    78\t馬連払戻2\tharaimodoshi_umaren_2a  \n",
    "    79\t馬連払戻2\tharaimodoshi_umaren_2b  \n",
    "    80\t馬連払戻2\tharaimodoshi_umaren_2c  \n",
    "    81\t馬連払戻3\tharaimodoshi_umaren_3a  \n",
    "    82\t馬連払戻3\tharaimodoshi_umaren_3b  \n",
    "    83\t馬連払戻3\tharaimodoshi_umaren_3c  \n",
    "    84\tワイド払戻1\tharaimodoshi_wide_1a  \n",
    "    85\tワイド払戻1\tharaimodoshi_wide_1b  \n",
    "    86\tワイド払戻1\tharaimodoshi_wide_1c  \n",
    "    87\tワイド払戻2\tharaimodoshi_wide_2a  \n",
    "    88\tワイド払戻2\tharaimodoshi_wide_2b  \n",
    "    89\tワイド払戻2\tharaimodoshi_wide_2c  \n",
    "    90\tワイド払戻3\tharaimodoshi_wide_3a  \n",
    "    91\tワイド払戻3\tharaimodoshi_wide_3b  \n",
    "    92\tワイド払戻3\tharaimodoshi_wide_3c  \n",
    "    93\tワイド払戻4\tharaimodoshi_wide_4a  \n",
    "    94\tワイド払戻4\tharaimodoshi_wide_4b  \n",
    "    95\tワイド払戻4\tharaimodoshi_wide_4c  \n",
    "    96\tワイド払戻5\tharaimodoshi_wide_5a  \n",
    "    97\tワイド払戻5\tharaimodoshi_wide_5b  \n",
    "    98\tワイド払戻5\tharaimodoshi_wide_5c  \n",
    "    99\tワイド払戻6\tharaimodoshi_wide_6a  \n",
    "    100\tワイド払戻6\tharaimodoshi_wide_6b  \n",
    "    101\tワイド払戻6\tharaimodoshi_wide_6c  \n",
    "    102\tワイド払戻7\tharaimodoshi_wide_7a  \n",
    "    103\tワイド払戻7\tharaimodoshi_wide_7b  \n",
    "    104\tワイド払戻7\tharaimodoshi_wide_7c  \n",
    "    105\t予備1\tyobi_4_1a  \n",
    "    106\t予備1\tyobi_4_1b  \n",
    "    107\t予備1\tyobi_4_1c  \n",
    "    108\t予備2\tyobi_4_2a  \n",
    "    109\t予備2\tyobi_4_2b  \n",
    "    110\t予備2\tyobi_4_2c  \n",
    "    111\t予備3\tyobi_4_3a  \n",
    "    112\t予備3\tyobi_4_3b  \n",
    "    113\t予備3\tyobi_4_3c  \n",
    "    114\t馬単払戻1\tharaimodoshi_umatan_1a  \n",
    "    115\t馬単払戻1\tharaimodoshi_umatan_1b  \n",
    "    116\t馬単払戻1\tharaimodoshi_umatan_1c  \n",
    "    117\t馬単払戻2\tharaimodoshi_umatan_2a  \n",
    "    118\t馬単払戻2\tharaimodoshi_umatan_2b  \n",
    "    119\t馬単払戻2\tharaimodoshi_umatan_2c  \n",
    "    120\t馬単払戻3\tharaimodoshi_umatan_3a  \n",
    "    121\t馬単払戻3\tharaimodoshi_umatan_3b  \n",
    "    122\t馬単払戻3\tharaimodoshi_umatan_3c  \n",
    "    123\t馬単払戻4\tharaimodoshi_umatan_4a  \n",
    "    124\t馬単払戻4\tharaimodoshi_umatan_4b  \n",
    "    125\t馬単払戻4\tharaimodoshi_umatan_4c  \n",
    "    126\t馬単払戻5\tharaimodoshi_umatan_5a  \n",
    "    127\t馬単払戻5\tharaimodoshi_umatan_5b  \n",
    "    128\t馬単払戻5\tharaimodoshi_umatan_5c  \n",
    "    129\t馬単払戻6\tharaimodoshi_umatan_6a  \n",
    "    130\t馬単払戻6\tharaimodoshi_umatan_6b  \n",
    "    131\t馬単払戻6\tharaimodoshi_umatan_6c  \n",
    "132\t3連複払戻1\tharaimodoshi_sanrenpuku_1a  \n",
    "133\t3連複払戻1\tharaimodoshi_sanrenpuku_1b  \n",
    "134\t3連複払戻1\tharaimodoshi_sanrenpuku_1c  \n",
    "    135\t3連複払戻2\tharaimodoshi_sanrenpuku_2a  \n",
    "    136\t3連複払戻2\tharaimodoshi_sanrenpuku_2b  \n",
    "    137\t3連複払戻2\tharaimodoshi_sanrenpuku_2c  \n",
    "    138\t3連複払戻3\tharaimodoshi_sanrenpuku_3a  \n",
    "    139\t3連複払戻3\tharaimodoshi_sanrenpuku_3b  \n",
    "    140\t3連複払戻3\tharaimodoshi_sanrenpuku_3c  \n",
    "    141\t3連単払戻1\tharaimodoshi_sanrentan_1a  \n",
    "    142\t3連単払戻1\tharaimodoshi_sanrentan_1b  \n",
    "    143\t3連単払戻1\tharaimodoshi_sanrentan_1c  \n",
    "    144\t3連単払戻2\tharaimodoshi_sanrentan_2a  \n",
    "    145\t3連単払戻2\tharaimodoshi_sanrentan_2b  \n",
    "    146\t3連単払戻2\tharaimodoshi_sanrentan_2c  \n",
    "    147\t3連単払戻3\tharaimodoshi_sanrentan_3a  \n",
    "    148\t3連単払戻3\tharaimodoshi_sanrentan_3b  \n",
    "    149\t3連単払戻3\tharaimodoshi_sanrentan_3c  \n",
    "    150\t3連単払戻4\tharaimodoshi_sanrentan_4a  \n",
    "    151\t3連単払戻4\tharaimodoshi_sanrentan_4b  \n",
    "    152\t3連単払戻4\tharaimodoshi_sanrentan_4c  \n",
    "    153\t3連単払戻5\tharaimodoshi_sanrentan_5a  \n",
    "    154\t3連単払戻5\tharaimodoshi_sanrentan_5b  \n",
    "    155\t3連単払戻5\tharaimodoshi_sanrentan_5c  \n",
    "    156\t3連単払戻6\tharaimodoshi_sanrentan_6a  \n",
    "    157\t3連単払戻6\tharaimodoshi_sanrentan_6b  \n",
    "    158\t3連単払戻6\tharaimodoshi_sanrentan_6c  "
   ]
  },
  {
   "cell_type": "code",
   "execution_count": 1,
   "id": "a262f692-7ebb-4c98-9ab3-26981ceb61f2",
   "metadata": {},
   "outputs": [],
   "source": [
    "columns = [\n",
    "            'kaisai_nen',\n",
    "            'kaisai_tsukihi',\n",
    "            'keibajo_code',\n",
    "            'kaisai_kai',\n",
    "            'kaisai_nichime',\n",
    "            'race_bango',\n",
    "            'toroku_tosu',\n",
    "            'shusso_tosu',\n",
    "            'fuseiritsu_flag_sanrenpuku',\n",
    "            'tokubarai_flag_sanrenpuku',\n",
    "            'henkan_flag_sanrenpuku',\n",
    "            'haraimodoshi_sanrenpuku_1a',\n",
    "            'haraimodoshi_sanrenpuku_1b',\n",
    "            'haraimodoshi_sanrenpuku_1c',\n",
    "            ]"
   ]
  },
  {
   "cell_type": "markdown",
   "id": "72ca9841-adc6-4612-b82f-f2f94a32faa7",
   "metadata": {},
   "source": [
    "# preparation"
   ]
  },
  {
   "cell_type": "code",
   "execution_count": 2,
   "id": "5c5e3421-37ca-4d81-be58-0d51a09c5561",
   "metadata": {
    "scrolled": true
   },
   "outputs": [],
   "source": [
    "import pandas as pd"
   ]
  },
  {
   "cell_type": "code",
   "execution_count": 3,
   "id": "11351b30-8083-423f-a50c-46bfde76436b",
   "metadata": {},
   "outputs": [],
   "source": [
    "j_payout_df = pd.read_pickle('../../traindata/rawdata/j_payout.pkl')\n",
    "n_payout_df = pd.read_pickle('../../traindata/rawdata/n_payout.pkl')"
   ]
  },
  {
   "cell_type": "code",
   "execution_count": 4,
   "id": "9552017f-efd4-4dc4-b143-52426314f66d",
   "metadata": {},
   "outputs": [
    {
     "name": "stdout",
     "output_type": "stream",
     "text": [
      "<class 'pandas.core.frame.DataFrame'>\n",
      "RangeIndex: 47399 entries, 0 to 47398\n",
      "Columns: 158 entries, record_id to haraimodoshi_sanrentan_6c\n",
      "dtypes: object(158)\n",
      "memory usage: 57.1+ MB\n"
     ]
    }
   ],
   "source": [
    "j_payout_df.info()"
   ]
  },
  {
   "cell_type": "code",
   "execution_count": 5,
   "id": "5a594871-5381-4e9f-9570-c322f36b969f",
   "metadata": {
    "scrolled": true
   },
   "outputs": [],
   "source": [
    "j_payout_df = j_payout_df[columns]\n",
    "n_payout_df = n_payout_df[columns]"
   ]
  },
  {
   "cell_type": "markdown",
   "id": "ce34a890-aa9a-4216-a861-770ed69a8f7b",
   "metadata": {},
   "source": [
    "# cleansing"
   ]
  },
  {
   "cell_type": "code",
   "execution_count": 6,
   "id": "1cbd1f67-ce74-479d-88d0-a97506aef521",
   "metadata": {},
   "outputs": [
    {
     "name": "stdout",
     "output_type": "stream",
     "text": [
      "kaisai_nen の欠損値の量: 0\n",
      "kaisai_nen の欠損値の量: 0\n",
      "kaisai_tsukihi の欠損値の量: 0\n",
      "kaisai_tsukihi の欠損値の量: 0\n",
      "keibajo_code の欠損値の量: 0\n",
      "keibajo_code の欠損値の量: 0\n",
      "kaisai_kai の欠損値の量: 0\n",
      "kaisai_kai の欠損値の量: 0\n",
      "kaisai_nichime の欠損値の量: 0\n",
      "kaisai_nichime の欠損値の量: 0\n",
      "race_bango の欠損値の量: 0\n",
      "race_bango の欠損値の量: 0\n",
      "toroku_tosu の欠損値の量: 0\n",
      "toroku_tosu の欠損値の量: 0\n",
      "shusso_tosu の欠損値の量: 0\n",
      "shusso_tosu の欠損値の量: 0\n",
      "fuseiritsu_flag_sanrenpuku の欠損値の量: 0\n",
      "fuseiritsu_flag_sanrenpuku の欠損値の量: 0\n",
      "tokubarai_flag_sanrenpuku の欠損値の量: 0\n",
      "tokubarai_flag_sanrenpuku の欠損値の量: 0\n",
      "henkan_flag_sanrenpuku の欠損値の量: 0\n",
      "henkan_flag_sanrenpuku の欠損値の量: 0\n",
      "haraimodoshi_sanrenpuku_1a の欠損値の量: 0\n",
      "haraimodoshi_sanrenpuku_1a の欠損値の量: 0\n",
      "haraimodoshi_sanrenpuku_1b の欠損値の量: 0\n",
      "haraimodoshi_sanrenpuku_1b の欠損値の量: 3143\n",
      "haraimodoshi_sanrenpuku_1c の欠損値の量: 0\n",
      "haraimodoshi_sanrenpuku_1c の欠損値の量: 4178\n"
     ]
    }
   ],
   "source": [
    "# 各カラムを数値化し、欠損値の量を調べる\n",
    "for column in columns:\n",
    "    j_payout_df[column] = pd.to_numeric(j_payout_df[column], errors='coerce')\n",
    "    n_payout_df[column] = pd.to_numeric(n_payout_df[column], errors='coerce')\n",
    "    j_missing_values = j_payout_df[column].isna().sum()\n",
    "    n_missing_values = n_payout_df[column].isna().sum()\n",
    "    print(f\"{column} の欠損値の量: {j_missing_values}\")\n",
    "    print(f\"{column} の欠損値の量: {n_missing_values}\")"
   ]
  },
  {
   "cell_type": "markdown",
   "id": "fd696343-e19b-4b17-8795-1e8d92f73546",
   "metadata": {},
   "source": [
    "### kaisai_nen （開催年）"
   ]
  },
  {
   "cell_type": "code",
   "execution_count": 7,
   "id": "fd535b08-48c5-49f0-9fa0-c58fff7d7fae",
   "metadata": {},
   "outputs": [
    {
     "data": {
      "text/plain": [
       "kaisai_nen\n",
       "2020    3456\n",
       "2022    3456\n",
       "2021    3456\n",
       "2017    3455\n",
       "2018    3454\n",
       "2010    3454\n",
       "2012    3454\n",
       "2013    3454\n",
       "2015    3454\n",
       "2016    3454\n",
       "2011    3453\n",
       "2019    3452\n",
       "2014    3451\n",
       "2023    2496\n",
       "Name: count, dtype: int64"
      ]
     },
     "execution_count": 7,
     "metadata": {},
     "output_type": "execute_result"
    }
   ],
   "source": [
    "#kaisai_nen（開催年）の値と個数\n",
    "j_payout_df['kaisai_nen'] .value_counts()"
   ]
  },
  {
   "cell_type": "markdown",
   "id": "8b135c42-878b-45b2-a01d-6364fe582797",
   "metadata": {},
   "source": [
    "### haraimodoshi_sanrenpuku_1b（3連複払戻_払戻金1）"
   ]
  },
  {
   "cell_type": "code",
   "execution_count": 8,
   "id": "e54d8afd-013e-41a2-939a-a5ae75a50a0c",
   "metadata": {},
   "outputs": [
    {
     "data": {
      "text/plain": [
       "haraimodoshi_sanrenpuku_1b\n",
       "790       93\n",
       "1980      91\n",
       "1100      89\n",
       "1160      86\n",
       "820       86\n",
       "          ..\n",
       "215900     1\n",
       "45460      1\n",
       "44140      1\n",
       "96460      1\n",
       "130230     1\n",
       "Name: count, Length: 8177, dtype: int64"
      ]
     },
     "execution_count": 8,
     "metadata": {},
     "output_type": "execute_result"
    }
   ],
   "source": [
    "#haraimodoshi_sanrenpuku_1b（3連複払戻_払戻金1）の値と個数\n",
    "j_payout_df['haraimodoshi_sanrenpuku_1b'] .value_counts()"
   ]
  },
  {
   "cell_type": "markdown",
   "id": "a24d6aff-9c74-49c3-8810-7e550abad05f",
   "metadata": {},
   "source": [
    "# save as pickle"
   ]
  },
  {
   "cell_type": "code",
   "execution_count": 9,
   "id": "62618162-3a74-445c-a114-3761fe4da233",
   "metadata": {},
   "outputs": [],
   "source": [
    "j_payout_df.to_pickle('../../traindata/j_payout.pkl')\n",
    "n_payout_df.to_pickle('../../traindata/n_payout.pkl')"
   ]
  }
 ],
 "metadata": {
  "kernelspec": {
   "display_name": "Python 3 (ipykernel)",
   "language": "python",
   "name": "python3"
  },
  "language_info": {
   "codemirror_mode": {
    "name": "ipython",
    "version": 3
   },
   "file_extension": ".py",
   "mimetype": "text/x-python",
   "name": "python",
   "nbconvert_exporter": "python",
   "pygments_lexer": "ipython3",
   "version": "3.9.17"
  }
 },
 "nbformat": 4,
 "nbformat_minor": 5
}

{
 "cells": [
  {
   "cell_type": "markdown",
   "id": "72ca9841-adc6-4612-b82f-f2f94a32faa7",
   "metadata": {},
   "source": [
    "# preparation"
   ]
  },
  {
   "cell_type": "code",
   "execution_count": 1,
   "id": "f6d127aa-802a-4ec0-9fc9-e2671c2dba1a",
   "metadata": {},
   "outputs": [],
   "source": [
    "import pandas as pd\n",
    "import numpy as np\n",
    "\n",
    "#モデル\n",
    "import lightgbm as lgb\n",
    "\n",
    "#クロスバリデーション\n",
    "from sklearn.model_selection import KFold\n",
    "\n",
    "#エヴァリュエーション\n",
    "from sklearn.metrics import precision_score, recall_score, mean_squared_error\n",
    "\n",
    "#可視化\n",
    "import matplotlib.pyplot as plt\n",
    "import seaborn as sns\n",
    "from sklearn.metrics import confusion_matrix, ConfusionMatrixDisplay\n",
    "\n",
    "#保存\n",
    "import pickle"
   ]
  },
  {
   "cell_type": "code",
   "execution_count": 2,
   "id": "6c8995db-9532-467d-889d-06b2a8d8d183",
   "metadata": {},
   "outputs": [
    {
     "ename": "FileNotFoundError",
     "evalue": "[Errno 2] No such file or directory: '../datasets/targetdata/rawdata/racepage/202355092306.csv'",
     "output_type": "error",
     "traceback": [
      "\u001b[1;31m---------------------------------------------------------------------------\u001b[0m",
      "\u001b[1;31mFileNotFoundError\u001b[0m                         Traceback (most recent call last)",
      "Cell \u001b[1;32mIn[2], line 3\u001b[0m\n\u001b[0;32m      1\u001b[0m race_id \u001b[38;5;241m=\u001b[39m \u001b[38;5;241m202355092306\u001b[39m\n\u001b[0;32m      2\u001b[0m csv_file_path \u001b[38;5;241m=\u001b[39m \u001b[38;5;124mf\u001b[39m\u001b[38;5;124m'\u001b[39m\u001b[38;5;124m../datasets/targetdata/rawdata/racepage/\u001b[39m\u001b[38;5;132;01m{\u001b[39;00mrace_id\u001b[38;5;132;01m}\u001b[39;00m\u001b[38;5;124m.csv\u001b[39m\u001b[38;5;124m'\u001b[39m\n\u001b[1;32m----> 3\u001b[0m n_targetrace_df \u001b[38;5;241m=\u001b[39m \u001b[43mpd\u001b[49m\u001b[38;5;241;43m.\u001b[39;49m\u001b[43mread_csv\u001b[49m\u001b[43m(\u001b[49m\u001b[43mcsv_file_path\u001b[49m\u001b[43m)\u001b[49m\n",
      "File \u001b[1;32m~\\miniforge3\\envs\\jra-van\\lib\\site-packages\\pandas\\io\\parsers\\readers.py:912\u001b[0m, in \u001b[0;36mread_csv\u001b[1;34m(filepath_or_buffer, sep, delimiter, header, names, index_col, usecols, dtype, engine, converters, true_values, false_values, skipinitialspace, skiprows, skipfooter, nrows, na_values, keep_default_na, na_filter, verbose, skip_blank_lines, parse_dates, infer_datetime_format, keep_date_col, date_parser, date_format, dayfirst, cache_dates, iterator, chunksize, compression, thousands, decimal, lineterminator, quotechar, quoting, doublequote, escapechar, comment, encoding, encoding_errors, dialect, on_bad_lines, delim_whitespace, low_memory, memory_map, float_precision, storage_options, dtype_backend)\u001b[0m\n\u001b[0;32m    899\u001b[0m kwds_defaults \u001b[38;5;241m=\u001b[39m _refine_defaults_read(\n\u001b[0;32m    900\u001b[0m     dialect,\n\u001b[0;32m    901\u001b[0m     delimiter,\n\u001b[1;32m   (...)\u001b[0m\n\u001b[0;32m    908\u001b[0m     dtype_backend\u001b[38;5;241m=\u001b[39mdtype_backend,\n\u001b[0;32m    909\u001b[0m )\n\u001b[0;32m    910\u001b[0m kwds\u001b[38;5;241m.\u001b[39mupdate(kwds_defaults)\n\u001b[1;32m--> 912\u001b[0m \u001b[38;5;28;01mreturn\u001b[39;00m \u001b[43m_read\u001b[49m\u001b[43m(\u001b[49m\u001b[43mfilepath_or_buffer\u001b[49m\u001b[43m,\u001b[49m\u001b[43m \u001b[49m\u001b[43mkwds\u001b[49m\u001b[43m)\u001b[49m\n",
      "File \u001b[1;32m~\\miniforge3\\envs\\jra-van\\lib\\site-packages\\pandas\\io\\parsers\\readers.py:577\u001b[0m, in \u001b[0;36m_read\u001b[1;34m(filepath_or_buffer, kwds)\u001b[0m\n\u001b[0;32m    574\u001b[0m _validate_names(kwds\u001b[38;5;241m.\u001b[39mget(\u001b[38;5;124m\"\u001b[39m\u001b[38;5;124mnames\u001b[39m\u001b[38;5;124m\"\u001b[39m, \u001b[38;5;28;01mNone\u001b[39;00m))\n\u001b[0;32m    576\u001b[0m \u001b[38;5;66;03m# Create the parser.\u001b[39;00m\n\u001b[1;32m--> 577\u001b[0m parser \u001b[38;5;241m=\u001b[39m TextFileReader(filepath_or_buffer, \u001b[38;5;241m*\u001b[39m\u001b[38;5;241m*\u001b[39mkwds)\n\u001b[0;32m    579\u001b[0m \u001b[38;5;28;01mif\u001b[39;00m chunksize \u001b[38;5;129;01mor\u001b[39;00m iterator:\n\u001b[0;32m    580\u001b[0m     \u001b[38;5;28;01mreturn\u001b[39;00m parser\n",
      "File \u001b[1;32m~\\miniforge3\\envs\\jra-van\\lib\\site-packages\\pandas\\io\\parsers\\readers.py:1407\u001b[0m, in \u001b[0;36mTextFileReader.__init__\u001b[1;34m(self, f, engine, **kwds)\u001b[0m\n\u001b[0;32m   1404\u001b[0m     \u001b[38;5;28mself\u001b[39m\u001b[38;5;241m.\u001b[39moptions[\u001b[38;5;124m\"\u001b[39m\u001b[38;5;124mhas_index_names\u001b[39m\u001b[38;5;124m\"\u001b[39m] \u001b[38;5;241m=\u001b[39m kwds[\u001b[38;5;124m\"\u001b[39m\u001b[38;5;124mhas_index_names\u001b[39m\u001b[38;5;124m\"\u001b[39m]\n\u001b[0;32m   1406\u001b[0m \u001b[38;5;28mself\u001b[39m\u001b[38;5;241m.\u001b[39mhandles: IOHandles \u001b[38;5;241m|\u001b[39m \u001b[38;5;28;01mNone\u001b[39;00m \u001b[38;5;241m=\u001b[39m \u001b[38;5;28;01mNone\u001b[39;00m\n\u001b[1;32m-> 1407\u001b[0m \u001b[38;5;28mself\u001b[39m\u001b[38;5;241m.\u001b[39m_engine \u001b[38;5;241m=\u001b[39m \u001b[38;5;28;43mself\u001b[39;49m\u001b[38;5;241;43m.\u001b[39;49m\u001b[43m_make_engine\u001b[49m\u001b[43m(\u001b[49m\u001b[43mf\u001b[49m\u001b[43m,\u001b[49m\u001b[43m \u001b[49m\u001b[38;5;28;43mself\u001b[39;49m\u001b[38;5;241;43m.\u001b[39;49m\u001b[43mengine\u001b[49m\u001b[43m)\u001b[49m\n",
      "File \u001b[1;32m~\\miniforge3\\envs\\jra-van\\lib\\site-packages\\pandas\\io\\parsers\\readers.py:1661\u001b[0m, in \u001b[0;36mTextFileReader._make_engine\u001b[1;34m(self, f, engine)\u001b[0m\n\u001b[0;32m   1659\u001b[0m     \u001b[38;5;28;01mif\u001b[39;00m \u001b[38;5;124m\"\u001b[39m\u001b[38;5;124mb\u001b[39m\u001b[38;5;124m\"\u001b[39m \u001b[38;5;129;01mnot\u001b[39;00m \u001b[38;5;129;01min\u001b[39;00m mode:\n\u001b[0;32m   1660\u001b[0m         mode \u001b[38;5;241m+\u001b[39m\u001b[38;5;241m=\u001b[39m \u001b[38;5;124m\"\u001b[39m\u001b[38;5;124mb\u001b[39m\u001b[38;5;124m\"\u001b[39m\n\u001b[1;32m-> 1661\u001b[0m \u001b[38;5;28mself\u001b[39m\u001b[38;5;241m.\u001b[39mhandles \u001b[38;5;241m=\u001b[39m \u001b[43mget_handle\u001b[49m\u001b[43m(\u001b[49m\n\u001b[0;32m   1662\u001b[0m \u001b[43m    \u001b[49m\u001b[43mf\u001b[49m\u001b[43m,\u001b[49m\n\u001b[0;32m   1663\u001b[0m \u001b[43m    \u001b[49m\u001b[43mmode\u001b[49m\u001b[43m,\u001b[49m\n\u001b[0;32m   1664\u001b[0m \u001b[43m    \u001b[49m\u001b[43mencoding\u001b[49m\u001b[38;5;241;43m=\u001b[39;49m\u001b[38;5;28;43mself\u001b[39;49m\u001b[38;5;241;43m.\u001b[39;49m\u001b[43moptions\u001b[49m\u001b[38;5;241;43m.\u001b[39;49m\u001b[43mget\u001b[49m\u001b[43m(\u001b[49m\u001b[38;5;124;43m\"\u001b[39;49m\u001b[38;5;124;43mencoding\u001b[39;49m\u001b[38;5;124;43m\"\u001b[39;49m\u001b[43m,\u001b[49m\u001b[43m \u001b[49m\u001b[38;5;28;43;01mNone\u001b[39;49;00m\u001b[43m)\u001b[49m\u001b[43m,\u001b[49m\n\u001b[0;32m   1665\u001b[0m \u001b[43m    \u001b[49m\u001b[43mcompression\u001b[49m\u001b[38;5;241;43m=\u001b[39;49m\u001b[38;5;28;43mself\u001b[39;49m\u001b[38;5;241;43m.\u001b[39;49m\u001b[43moptions\u001b[49m\u001b[38;5;241;43m.\u001b[39;49m\u001b[43mget\u001b[49m\u001b[43m(\u001b[49m\u001b[38;5;124;43m\"\u001b[39;49m\u001b[38;5;124;43mcompression\u001b[39;49m\u001b[38;5;124;43m\"\u001b[39;49m\u001b[43m,\u001b[49m\u001b[43m \u001b[49m\u001b[38;5;28;43;01mNone\u001b[39;49;00m\u001b[43m)\u001b[49m\u001b[43m,\u001b[49m\n\u001b[0;32m   1666\u001b[0m \u001b[43m    \u001b[49m\u001b[43mmemory_map\u001b[49m\u001b[38;5;241;43m=\u001b[39;49m\u001b[38;5;28;43mself\u001b[39;49m\u001b[38;5;241;43m.\u001b[39;49m\u001b[43moptions\u001b[49m\u001b[38;5;241;43m.\u001b[39;49m\u001b[43mget\u001b[49m\u001b[43m(\u001b[49m\u001b[38;5;124;43m\"\u001b[39;49m\u001b[38;5;124;43mmemory_map\u001b[39;49m\u001b[38;5;124;43m\"\u001b[39;49m\u001b[43m,\u001b[49m\u001b[43m \u001b[49m\u001b[38;5;28;43;01mFalse\u001b[39;49;00m\u001b[43m)\u001b[49m\u001b[43m,\u001b[49m\n\u001b[0;32m   1667\u001b[0m \u001b[43m    \u001b[49m\u001b[43mis_text\u001b[49m\u001b[38;5;241;43m=\u001b[39;49m\u001b[43mis_text\u001b[49m\u001b[43m,\u001b[49m\n\u001b[0;32m   1668\u001b[0m \u001b[43m    \u001b[49m\u001b[43merrors\u001b[49m\u001b[38;5;241;43m=\u001b[39;49m\u001b[38;5;28;43mself\u001b[39;49m\u001b[38;5;241;43m.\u001b[39;49m\u001b[43moptions\u001b[49m\u001b[38;5;241;43m.\u001b[39;49m\u001b[43mget\u001b[49m\u001b[43m(\u001b[49m\u001b[38;5;124;43m\"\u001b[39;49m\u001b[38;5;124;43mencoding_errors\u001b[39;49m\u001b[38;5;124;43m\"\u001b[39;49m\u001b[43m,\u001b[49m\u001b[43m \u001b[49m\u001b[38;5;124;43m\"\u001b[39;49m\u001b[38;5;124;43mstrict\u001b[39;49m\u001b[38;5;124;43m\"\u001b[39;49m\u001b[43m)\u001b[49m\u001b[43m,\u001b[49m\n\u001b[0;32m   1669\u001b[0m \u001b[43m    \u001b[49m\u001b[43mstorage_options\u001b[49m\u001b[38;5;241;43m=\u001b[39;49m\u001b[38;5;28;43mself\u001b[39;49m\u001b[38;5;241;43m.\u001b[39;49m\u001b[43moptions\u001b[49m\u001b[38;5;241;43m.\u001b[39;49m\u001b[43mget\u001b[49m\u001b[43m(\u001b[49m\u001b[38;5;124;43m\"\u001b[39;49m\u001b[38;5;124;43mstorage_options\u001b[39;49m\u001b[38;5;124;43m\"\u001b[39;49m\u001b[43m,\u001b[49m\u001b[43m \u001b[49m\u001b[38;5;28;43;01mNone\u001b[39;49;00m\u001b[43m)\u001b[49m\u001b[43m,\u001b[49m\n\u001b[0;32m   1670\u001b[0m \u001b[43m\u001b[49m\u001b[43m)\u001b[49m\n\u001b[0;32m   1671\u001b[0m \u001b[38;5;28;01massert\u001b[39;00m \u001b[38;5;28mself\u001b[39m\u001b[38;5;241m.\u001b[39mhandles \u001b[38;5;129;01mis\u001b[39;00m \u001b[38;5;129;01mnot\u001b[39;00m \u001b[38;5;28;01mNone\u001b[39;00m\n\u001b[0;32m   1672\u001b[0m f \u001b[38;5;241m=\u001b[39m \u001b[38;5;28mself\u001b[39m\u001b[38;5;241m.\u001b[39mhandles\u001b[38;5;241m.\u001b[39mhandle\n",
      "File \u001b[1;32m~\\miniforge3\\envs\\jra-van\\lib\\site-packages\\pandas\\io\\common.py:859\u001b[0m, in \u001b[0;36mget_handle\u001b[1;34m(path_or_buf, mode, encoding, compression, memory_map, is_text, errors, storage_options)\u001b[0m\n\u001b[0;32m    854\u001b[0m \u001b[38;5;28;01melif\u001b[39;00m \u001b[38;5;28misinstance\u001b[39m(handle, \u001b[38;5;28mstr\u001b[39m):\n\u001b[0;32m    855\u001b[0m     \u001b[38;5;66;03m# Check whether the filename is to be opened in binary mode.\u001b[39;00m\n\u001b[0;32m    856\u001b[0m     \u001b[38;5;66;03m# Binary mode does not support 'encoding' and 'newline'.\u001b[39;00m\n\u001b[0;32m    857\u001b[0m     \u001b[38;5;28;01mif\u001b[39;00m ioargs\u001b[38;5;241m.\u001b[39mencoding \u001b[38;5;129;01mand\u001b[39;00m \u001b[38;5;124m\"\u001b[39m\u001b[38;5;124mb\u001b[39m\u001b[38;5;124m\"\u001b[39m \u001b[38;5;129;01mnot\u001b[39;00m \u001b[38;5;129;01min\u001b[39;00m ioargs\u001b[38;5;241m.\u001b[39mmode:\n\u001b[0;32m    858\u001b[0m         \u001b[38;5;66;03m# Encoding\u001b[39;00m\n\u001b[1;32m--> 859\u001b[0m         handle \u001b[38;5;241m=\u001b[39m \u001b[38;5;28;43mopen\u001b[39;49m\u001b[43m(\u001b[49m\n\u001b[0;32m    860\u001b[0m \u001b[43m            \u001b[49m\u001b[43mhandle\u001b[49m\u001b[43m,\u001b[49m\n\u001b[0;32m    861\u001b[0m \u001b[43m            \u001b[49m\u001b[43mioargs\u001b[49m\u001b[38;5;241;43m.\u001b[39;49m\u001b[43mmode\u001b[49m\u001b[43m,\u001b[49m\n\u001b[0;32m    862\u001b[0m \u001b[43m            \u001b[49m\u001b[43mencoding\u001b[49m\u001b[38;5;241;43m=\u001b[39;49m\u001b[43mioargs\u001b[49m\u001b[38;5;241;43m.\u001b[39;49m\u001b[43mencoding\u001b[49m\u001b[43m,\u001b[49m\n\u001b[0;32m    863\u001b[0m \u001b[43m            \u001b[49m\u001b[43merrors\u001b[49m\u001b[38;5;241;43m=\u001b[39;49m\u001b[43merrors\u001b[49m\u001b[43m,\u001b[49m\n\u001b[0;32m    864\u001b[0m \u001b[43m            \u001b[49m\u001b[43mnewline\u001b[49m\u001b[38;5;241;43m=\u001b[39;49m\u001b[38;5;124;43m\"\u001b[39;49m\u001b[38;5;124;43m\"\u001b[39;49m\u001b[43m,\u001b[49m\n\u001b[0;32m    865\u001b[0m \u001b[43m        \u001b[49m\u001b[43m)\u001b[49m\n\u001b[0;32m    866\u001b[0m     \u001b[38;5;28;01melse\u001b[39;00m:\n\u001b[0;32m    867\u001b[0m         \u001b[38;5;66;03m# Binary mode\u001b[39;00m\n\u001b[0;32m    868\u001b[0m         handle \u001b[38;5;241m=\u001b[39m \u001b[38;5;28mopen\u001b[39m(handle, ioargs\u001b[38;5;241m.\u001b[39mmode)\n",
      "\u001b[1;31mFileNotFoundError\u001b[0m: [Errno 2] No such file or directory: '../datasets/targetdata/rawdata/racepage/202355092306.csv'"
     ]
    }
   ],
   "source": [
    "race_id = 202355092306\n",
    "csv_file_path = f'../datasets/targetdata/rawdata/racepage/{race_id}.csv'\n",
    "n_targetrace_df = pd.read_csv(csv_file_path)"
   ]
  },
  {
   "cell_type": "code",
   "execution_count": null,
   "id": "f0dec926-4b50-4806-bc9c-ba1bdb7a4448",
   "metadata": {},
   "outputs": [],
   "source": [
    "# モデルを読み込む\n",
    "with open('bestmodels/benchmark_optunaed.pkl', 'rb') as f:\n",
    "    models = pickle.load(f)"
   ]
  },
  {
   "cell_type": "code",
   "execution_count": null,
   "id": "bbc42706-353f-43af-8f58-0108bc5abb7a",
   "metadata": {},
   "outputs": [],
   "source": [
    "n_uma_race_df = pd.read_pickle('../datasets/targetdata/n_uma_race.pkl')"
   ]
  },
  {
   "cell_type": "code",
   "execution_count": null,
   "id": "c37bbdd7-dbb7-4a69-9e50-9698d446e62e",
   "metadata": {},
   "outputs": [],
   "source": [
    "n_targetrace_df.head(3)"
   ]
  },
  {
   "cell_type": "code",
   "execution_count": null,
   "id": "2fce83dc-6b17-4595-8e03-0b266f9c3f2c",
   "metadata": {},
   "outputs": [],
   "source": [
    "n_uma_race_df.head(3)"
   ]
  },
  {
   "cell_type": "code",
   "execution_count": null,
   "id": "9f7745ae-749c-40ff-929c-081a09f30ee8",
   "metadata": {},
   "outputs": [],
   "source": [
    "# カラムのデータ型をstrに変換\n",
    "columns_to_convert = [\n",
    "                    'keibajo_code',\n",
    "                    'race_bango',\n",
    "                    'kaisai_nen',\n",
    "                    'kaisai_tsukihi',\n",
    "                    'wakuban',\n",
    "                    'umaban',\n",
    "                    ]\n",
    "\n",
    "for column in columns_to_convert:\n",
    "    n_uma_race_df[column] = n_uma_race_df[column].astype(str)\n",
    "    n_targetrace_df[column] = n_targetrace_df[column].astype(str)\n",
    "    missing_values = n_uma_race_df[column].isna().sum()\n",
    "    print(f\"n_uma_race_dfの{column} の欠損値の量: {missing_values}\")\n",
    "    missing_values = n_targetrace_df[column].isna().sum()\n",
    "    print(f\"n_targetrace_dfの{column} の欠損値の量: {missing_values}\")"
   ]
  },
  {
   "cell_type": "code",
   "execution_count": null,
   "id": "894596ae-c9a7-42a6-b6c2-64eba3a3f108",
   "metadata": {},
   "outputs": [],
   "source": [
    "# merged_df = pd.merge(n_uma_race_df, n_targetrace_df, on=['keibajo_code', \n",
    "#                                                         'race_bango', \n",
    "#                                                         'kaisai_nen', \n",
    "#                                                         'kaisai_tsukihi', \n",
    "#                                                         'wakuban', \n",
    "#                                                         'umaban'\n",
    "#                                                        ])"
   ]
  },
  {
   "cell_type": "code",
   "execution_count": null,
   "id": "81592fdc-4f85-4ac9-bf07-b29ef3e98025",
   "metadata": {
    "scrolled": true
   },
   "outputs": [],
   "source": [
    "# n_uma_race_dfとn_targetrace_dfをマージ\n",
    "keys = ['keibajo_code', 'race_bango', 'kaisai_nen', 'kaisai_tsukihi', 'wakuban', 'umaban']\n",
    "merged_df = pd.merge(n_uma_race_df, n_targetrace_df, on=keys, suffixes=('', '_from_target'))\n",
    "\n",
    "# n_targetrace_dfから必要なカラム（bataiju, zogen_fugo, zogen_sa, kyakushitsu_hantei）を選択\n",
    "columns_from_target = ['bataiju_from_target', 'zogen_fugo_from_target', 'zogen_sa_from_target', 'kyakushitsu_hantei_from_target']\n",
    "\n",
    "# n_uma_race_dfから必要なカラムを選択\n",
    "columns_from_uma_race = [col for col in n_uma_race_df.columns if col not in ['bataiju', 'zogen_fugo', 'zogen_sa', 'kyakushitsu_hantei']]\n",
    "\n",
    "# これらのカラムを使って新しいDataFrameを作成\n",
    "final_df = merged_df[columns_from_uma_race + columns_from_target]\n",
    "\n",
    "# カラム名をリネームして接尾辞を削除\n",
    "final_df.rename(columns={\n",
    "    'bataiju_from_target': 'bataiju',\n",
    "    'zogen_fugo_from_target': 'zogen_fugo',\n",
    "    'zogen_sa_from_target': 'zogen_sa',\n",
    "    'kyakushitsu_hantei_from_target': 'kyakushitsu_hantei'\n",
    "}, inplace=True)\n"
   ]
  },
  {
   "cell_type": "code",
   "execution_count": null,
   "id": "fb974c0c-7ae3-455e-b1e1-f1712d315949",
   "metadata": {},
   "outputs": [],
   "source": [
    "final_df"
   ]
  },
  {
   "cell_type": "code",
   "execution_count": null,
   "id": "1dddba65-e3e4-4edf-a1b8-b0503c9160b8",
   "metadata": {},
   "outputs": [],
   "source": [
    "# 各カラムを数値化し、欠損値の量を調べる\n",
    "for column in columns_to_convert:\n",
    "    final_df[column] = pd.to_numeric(final_df[column], errors='coerce')\n",
    "    missing_values = final_df[column].isna().sum()\n",
    "    print(f\"{column} の欠損値の量: {missing_values}\")"
   ]
  },
  {
   "cell_type": "code",
   "execution_count": null,
   "id": "68799b05-a32c-4640-b0a2-5865a99fadc7",
   "metadata": {},
   "outputs": [],
   "source": [
    "final_df.head(3)"
   ]
  },
  {
   "cell_type": "code",
   "execution_count": null,
   "id": "30db29f5-4036-46e4-b82c-db664fcfdac0",
   "metadata": {},
   "outputs": [],
   "source": [
    "final_df.info()"
   ]
  },
  {
   "cell_type": "code",
   "execution_count": null,
   "id": "2400948c-b3f7-46d8-96c4-15398001b34f",
   "metadata": {},
   "outputs": [],
   "source": [
    "target_uma_race_df = final_df"
   ]
  },
  {
   "cell_type": "markdown",
   "id": "50618bb5-4841-4cb9-b4cb-cc029629358c",
   "metadata": {},
   "source": [
    "### ターゲットデータで予測"
   ]
  },
  {
   "cell_type": "code",
   "execution_count": null,
   "id": "f136d5fd-39ce-463c-bc7a-e937532a34e5",
   "metadata": {},
   "outputs": [],
   "source": [
    "# 新しいグループを作成\n",
    "target_uma_race_df['group'] = target_uma_race_df['kaisai_nen'].astype(str) +\"-\"+ target_uma_race_df['kaisai_tsukihi'].astype(str) +\"-\"+  target_uma_race_df['keibajo_code'].astype(str) +\"-\"+  target_uma_race_df['race_bango'].astype(str)\n",
    "# グループごとの個数を計算\n",
    "group_counts = target_uma_race_df['group'].value_counts()\n",
    "print(group_counts)"
   ]
  },
  {
   "cell_type": "code",
   "execution_count": null,
   "id": "e0f0f1be-78e6-4a58-8476-b077d712f025",
   "metadata": {},
   "outputs": [],
   "source": [
    "# ランキング学習のために必要な特徴量とターゲットを設定\n",
    "features = [\n",
    "            'kaisai_nen',\n",
    "            'kaisai_tsukihi',\n",
    "            'keibajo_code',\n",
    "            # 'kaisai_kai',\n",
    "            # 'kaisai_nichime',\n",
    "            'race_bango',\n",
    "            'wakuban',\n",
    "            'umaban',\n",
    "            'ketto_toroku_bango',\n",
    "            # 'bamei',\n",
    "            'umakigo_code',\n",
    "            'seibetsu_code',\n",
    "            'hinshu_code',\n",
    "            'moshoku_code',\n",
    "            'barei',\n",
    "            'tozai_shozoku_code',\n",
    "            'chokyoshi_code',\n",
    "            'banushi_code',\n",
    "            # 'banushimei',\n",
    "            'futan_juryo',\n",
    "            'blinker_shiyo_kubun',\n",
    "            'kishu_code',\n",
    "            # 'kishumei_ryakusho',\n",
    "            'kishu_minarai_code',\n",
    "            'bataiju',\n",
    "            'zogen_fugo',\n",
    "            'zogen_sa',\n",
    "            'ijo_kubun_code',\n",
    "            # 'nyusen_juni',\n",
    "            ## 'kakutei_chakujun',\n",
    "            # 'dochaku_kubun',\n",
    "            # 'dochaku_tosu',\n",
    "            # 'soha_time',\n",
    "            # 'chakusa_code_1',\n",
    "            # 'chakusa_code_2',\n",
    "            # 'chakusa_code_3',\n",
    "            # 'corner_1',\n",
    "            # 'corner_2',\n",
    "            # 'corner_3',\n",
    "            # 'corner_4',\n",
    "            # 'tansho_odds',\n",
    "            # 'tansho_ninkijun',\n",
    "            # 'kakutoku_honshokin',\n",
    "            # 'kakutoku_fukashokin',\n",
    "            # 'kohan_4f',\n",
    "            # 'kohan_3f',\n",
    "            # 'aiteuma_joho_1',\n",
    "            # 'aiteuma_joho_2',\n",
    "            # 'aiteuma_joho_3',\n",
    "            # 'time_sa',\n",
    "            # 'record_koshin_kubun',\n",
    "            'kyakushitsu_hantei',\n",
    "            ]\n",
    "\n",
    "\n",
    "target = 'kakutei_chakujun'"
   ]
  },
  {
   "cell_type": "code",
   "execution_count": null,
   "id": "182f10c4-d526-4043-b9f7-e56983dee3ae",
   "metadata": {},
   "outputs": [],
   "source": [
    "target_uma_race_df['y_pred'] = sum([model.predict(target_uma_race_df[features], num_iteration=model.best_iteration) for model in models]) / len(models)\n",
    "\n",
    "# 予測されたランクをグループごとに計算\n",
    "target_uma_race_df['predicted_rank'] = target_uma_race_df.groupby('group')['y_pred'].rank(method='min')"
   ]
  },
  {
   "cell_type": "code",
   "execution_count": null,
   "id": "65eae5d5-1429-4e4b-befe-362d04234c0c",
   "metadata": {
    "scrolled": true
   },
   "outputs": [],
   "source": [
    "# groupとpredicted_rankでソート\n",
    "sorted_df = target_uma_race_df.sort_values(by=['group', 'predicted_rank'])\n",
    "\n",
    "# # pandasの表示オプションを変更して、すべての行を表示\n",
    "# pd.set_option('display.max_rows', None)\n",
    "\n",
    "# print(sorted_df[['group', 'y_pred', 'predicted_rank', 'umaban', 'bamei']])"
   ]
  },
  {
   "cell_type": "code",
   "execution_count": null,
   "id": "9ce4c2d8-1ff8-46a1-8bb9-61115e682713",
   "metadata": {},
   "outputs": [],
   "source": [
    "# マッピングのルールを定義\n",
    "race_venue_mapping = {\n",
    "    1: '札幌',\n",
    "    2: '函館',\n",
    "    3: '福島',\n",
    "    4: '新潟',\n",
    "    5: '東京',\n",
    "    6: '中山',\n",
    "    7: '中京',\n",
    "    8: '京都',\n",
    "    9: '阪神',\n",
    "    10: '小倉',\n",
    "    30: '門別',\n",
    "    31: '北見',\n",
    "    32: '岩見沢',\n",
    "    33: '帯広',\n",
    "    34: '旭川',\n",
    "    35: '盛岡',\n",
    "    36: '水沢',\n",
    "    37: '上山',\n",
    "    38: '三条',\n",
    "    39: '足利',\n",
    "    40: '宇都宮',\n",
    "    41: '高崎',\n",
    "    42: '浦和',\n",
    "    43: '船橋',\n",
    "    44: '大井',\n",
    "    45: '川崎',\n",
    "    46: '金沢',\n",
    "    47: '笠松',\n",
    "    48: '名古屋',\n",
    "    49: '紀三井寺',\n",
    "    50: '園田',\n",
    "    51: '姫路',\n",
    "    52: '益田',\n",
    "    53: '福山',\n",
    "    54: '高知',\n",
    "    55: '佐賀',\n",
    "    56: '荒尾',\n",
    "    57: '中津',\n",
    "    58: '札幌（地方競馬）',\n",
    "    59: '函館（地方競馬）',\n",
    "    60: '新潟（地方競馬）',\n",
    "    61: '中京（地方競馬）',\n",
    "    0: '未設定・未整備時'\n",
    "}\n",
    "sorted_df['keibajo'] = sorted_df['keibajo_code'].map(race_venue_mapping)"
   ]
  },
  {
   "cell_type": "code",
   "execution_count": null,
   "id": "90581478-a5cd-402c-b4ad-131380b3ee39",
   "metadata": {},
   "outputs": [],
   "source": [
    "sorted_df = sorted_df[['predicted_rank', 'bamei', 'kaisai_nen', 'kaisai_tsukihi', 'keibajo', 'race_bango', 'wakuban', 'umaban', 'zogen_sa', 'y_pred']]"
   ]
  },
  {
   "cell_type": "code",
   "execution_count": null,
   "id": "6dfb2f75-3fb6-49a6-ad4b-adff38936813",
   "metadata": {},
   "outputs": [],
   "source": [
    "sorted_df"
   ]
  }
 ],
 "metadata": {
  "kernelspec": {
   "display_name": "Python 3 (ipykernel)",
   "language": "python",
   "name": "python3"
  },
  "language_info": {
   "codemirror_mode": {
    "name": "ipython",
    "version": 3
   },
   "file_extension": ".py",
   "mimetype": "text/x-python",
   "name": "python",
   "nbconvert_exporter": "python",
   "pygments_lexer": "ipython3",
   "version": "3.9.17"
  }
 },
 "nbformat": 4,
 "nbformat_minor": 5
}

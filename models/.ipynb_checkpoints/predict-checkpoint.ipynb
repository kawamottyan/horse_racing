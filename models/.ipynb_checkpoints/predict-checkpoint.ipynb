{
 "cells": [
  {
   "cell_type": "markdown",
   "id": "72ca9841-adc6-4612-b82f-f2f94a32faa7",
   "metadata": {},
   "source": [
    "# preparation"
   ]
  },
  {
   "cell_type": "code",
   "execution_count": 19,
   "id": "f6d127aa-802a-4ec0-9fc9-e2671c2dba1a",
   "metadata": {},
   "outputs": [],
   "source": [
    "import pandas as pd\n",
    "import numpy as np\n",
    "\n",
    "#モデル\n",
    "import lightgbm as lgb\n",
    "\n",
    "#クロスバリデーション\n",
    "from sklearn.model_selection import KFold\n",
    "\n",
    "#エヴァリュエーション\n",
    "from sklearn.metrics import precision_score, recall_score, mean_squared_error\n",
    "\n",
    "#可視化\n",
    "import matplotlib.pyplot as plt\n",
    "import seaborn as sns\n",
    "from sklearn.metrics import confusion_matrix, ConfusionMatrixDisplay\n",
    "\n",
    "#保存\n",
    "import pickle"
   ]
  },
  {
   "cell_type": "code",
   "execution_count": 20,
   "id": "6c8995db-9532-467d-889d-06b2a8d8d183",
   "metadata": {},
   "outputs": [],
   "source": [
    "race_id = 202355092304\n",
    "csv_file_path = f'../datasets/targetdata/rawdata/racepage/{race_id}.csv'\n",
    "n_targetrace_df = pd.read_csv(csv_file_path)"
   ]
  },
  {
   "cell_type": "code",
   "execution_count": 21,
   "id": "bbc42706-353f-43af-8f58-0108bc5abb7a",
   "metadata": {},
   "outputs": [],
   "source": [
    "n_uma_race_df = pd.read_pickle('../datasets/targetdata/n_uma_race.pkl')"
   ]
  },
  {
   "cell_type": "code",
   "execution_count": 22,
   "id": "c37bbdd7-dbb7-4a69-9e50-9698d446e62e",
   "metadata": {},
   "outputs": [
    {
     "name": "stdout",
     "output_type": "stream",
     "text": [
      "<class 'pandas.core.frame.DataFrame'>\n",
      "RangeIndex: 8 entries, 0 to 7\n",
      "Data columns (total 16 columns):\n",
      " #   Column              Non-Null Count  Dtype  \n",
      "---  ------              --------------  -----  \n",
      " 0   wakuban             8 non-null      int64  \n",
      " 1   umaban              8 non-null      int64  \n",
      " 2   bamei               8 non-null      object \n",
      " 3   futan               8 non-null      float64\n",
      " 4   odds                8 non-null      float64\n",
      " 5   popular             8 non-null      int64  \n",
      " 6   kaisai_nen          8 non-null      int64  \n",
      " 7   kaisai_tsukihi      8 non-null      int64  \n",
      " 8   race_bango          8 non-null      int64  \n",
      " 9   sex                 8 non-null      object \n",
      " 10  barei               8 non-null      int64  \n",
      " 11  bataiju             8 non-null      int64  \n",
      " 12  zogen_fugo          8 non-null      int64  \n",
      " 13  zogen_sa            8 non-null      int64  \n",
      " 14  kyakushitsu_hantei  8 non-null      int64  \n",
      " 15  keibajo_code        8 non-null      int64  \n",
      "dtypes: float64(2), int64(12), object(2)\n",
      "memory usage: 1.1+ KB\n"
     ]
    }
   ],
   "source": [
    "n_targetrace_df.info()"
   ]
  },
  {
   "cell_type": "code",
   "execution_count": 23,
   "id": "2fce83dc-6b17-4595-8e03-0b266f9c3f2c",
   "metadata": {},
   "outputs": [
    {
     "name": "stdout",
     "output_type": "stream",
     "text": [
      "<class 'pandas.core.frame.DataFrame'>\n",
      "RangeIndex: 832 entries, 0 to 831\n",
      "Data columns (total 52 columns):\n",
      " #   Column               Non-Null Count  Dtype  \n",
      "---  ------               --------------  -----  \n",
      " 0   kaisai_nen           832 non-null    int64  \n",
      " 1   kaisai_tsukihi       832 non-null    int64  \n",
      " 2   keibajo_code         832 non-null    object \n",
      " 3   kaisai_kai           832 non-null    int64  \n",
      " 4   kaisai_nichime       832 non-null    int64  \n",
      " 5   race_bango           832 non-null    int64  \n",
      " 6   wakuban              832 non-null    int64  \n",
      " 7   umaban               832 non-null    int64  \n",
      " 8   ketto_toroku_bango   832 non-null    int64  \n",
      " 9   bamei                832 non-null    object \n",
      " 10  umakigo_code         832 non-null    int64  \n",
      " 11  seibetsu_code        832 non-null    int64  \n",
      " 12  hinshu_code          715 non-null    float64\n",
      " 13  moshoku_code         832 non-null    int64  \n",
      " 14  barei                832 non-null    int64  \n",
      " 15  tozai_shozoku_code   832 non-null    int64  \n",
      " 16  chokyoshi_code       832 non-null    int64  \n",
      " 17  banushi_code         832 non-null    int64  \n",
      " 18  banushimei           832 non-null    object \n",
      " 19  futan_juryo          766 non-null    float64\n",
      " 20  blinker_shiyo_kubun  832 non-null    int64  \n",
      " 21  kishu_code           832 non-null    int64  \n",
      " 22  kishumei_ryakusho    832 non-null    object \n",
      " 23  kishu_minarai_code   832 non-null    int64  \n",
      " 24  bataiju              0 non-null      float64\n",
      " 25  zogen_fugo           832 non-null    int64  \n",
      " 26  zogen_sa             0 non-null      float64\n",
      " 27  ijo_kubun_code       832 non-null    int64  \n",
      " 28  nyusen_juni          832 non-null    int64  \n",
      " 29  kakutei_chakujun     832 non-null    int64  \n",
      " 30  dochaku_kubun        832 non-null    int64  \n",
      " 31  dochaku_tosu         832 non-null    int64  \n",
      " 32  soha_time            832 non-null    int64  \n",
      " 33  chakusa_code_1       0 non-null      float64\n",
      " 34  chakusa_code_2       0 non-null      float64\n",
      " 35  chakusa_code_3       0 non-null      float64\n",
      " 36  corner_1             832 non-null    int64  \n",
      " 37  corner_2             832 non-null    int64  \n",
      " 38  corner_3             832 non-null    int64  \n",
      " 39  corner_4             832 non-null    int64  \n",
      " 40  tansho_odds          832 non-null    int64  \n",
      " 41  tansho_ninkijun      832 non-null    int64  \n",
      " 42  kakutoku_honshokin   832 non-null    int64  \n",
      " 43  kakutoku_fukashokin  832 non-null    int64  \n",
      " 44  kohan_4f             832 non-null    int64  \n",
      " 45  kohan_3f             832 non-null    int64  \n",
      " 46  aiteuma_joho_1       832 non-null    object \n",
      " 47  aiteuma_joho_2       832 non-null    object \n",
      " 48  aiteuma_joho_3       832 non-null    object \n",
      " 49  time_sa              832 non-null    int64  \n",
      " 50  record_koshin_kubun  832 non-null    int64  \n",
      " 51  kyakushitsu_hantei   832 non-null    int64  \n",
      "dtypes: float64(7), int64(38), object(7)\n",
      "memory usage: 338.1+ KB\n"
     ]
    }
   ],
   "source": [
    "n_uma_race_df.info()"
   ]
  },
  {
   "cell_type": "code",
   "execution_count": 24,
   "id": "9f7745ae-749c-40ff-929c-081a09f30ee8",
   "metadata": {},
   "outputs": [
    {
     "name": "stdout",
     "output_type": "stream",
     "text": [
      "n_uma_race_dfのkeibajo_code の欠損値の量: 0\n",
      "n_targetrace_dfのkeibajo_code の欠損値の量: 0\n",
      "n_uma_race_dfのrace_bango の欠損値の量: 0\n",
      "n_targetrace_dfのrace_bango の欠損値の量: 0\n",
      "n_uma_race_dfのkaisai_nen の欠損値の量: 0\n",
      "n_targetrace_dfのkaisai_nen の欠損値の量: 0\n",
      "n_uma_race_dfのkaisai_tsukihi の欠損値の量: 0\n",
      "n_targetrace_dfのkaisai_tsukihi の欠損値の量: 0\n",
      "n_uma_race_dfのwakuban の欠損値の量: 0\n",
      "n_targetrace_dfのwakuban の欠損値の量: 0\n",
      "n_uma_race_dfのumaban の欠損値の量: 0\n",
      "n_targetrace_dfのumaban の欠損値の量: 0\n"
     ]
    }
   ],
   "source": [
    "# カラムのデータ型をstrに変換\n",
    "columns_to_convert = [\n",
    "                    'keibajo_code',\n",
    "                    'race_bango',\n",
    "                    'kaisai_nen',\n",
    "                    'kaisai_tsukihi',\n",
    "                    'wakuban',\n",
    "                    'umaban',\n",
    "                    ]\n",
    "\n",
    "for column in columns_to_convert:\n",
    "    n_uma_race_df[column] = n_uma_race_df[column].astype(str)\n",
    "    n_targetrace_df[column] = n_targetrace_df[column].astype(str)\n",
    "    missing_values = n_uma_race_df[column].isna().sum()\n",
    "    print(f\"n_uma_race_dfの{column} の欠損値の量: {missing_values}\")\n",
    "    missing_values = n_targetrace_df[column].isna().sum()\n",
    "    print(f\"n_targetrace_dfの{column} の欠損値の量: {missing_values}\")"
   ]
  },
  {
   "cell_type": "code",
   "execution_count": 25,
   "id": "894596ae-c9a7-42a6-b6c2-64eba3a3f108",
   "metadata": {},
   "outputs": [],
   "source": [
    "# merged_df = pd.merge(n_uma_race_df, n_targetrace_df, on=['keibajo_code', \n",
    "#                                                         'race_bango', \n",
    "#                                                         'kaisai_nen', \n",
    "#                                                         'kaisai_tsukihi', \n",
    "#                                                         'wakuban', \n",
    "#                                                         'umaban'\n",
    "#                                                        ])"
   ]
  },
  {
   "cell_type": "code",
   "execution_count": 26,
   "id": "ed1e665e-d7d0-4f59-b3ec-c7aa6bc1b65b",
   "metadata": {},
   "outputs": [
    {
     "data": {
      "text/html": [
       "<div>\n",
       "<style scoped>\n",
       "    .dataframe tbody tr th:only-of-type {\n",
       "        vertical-align: middle;\n",
       "    }\n",
       "\n",
       "    .dataframe tbody tr th {\n",
       "        vertical-align: top;\n",
       "    }\n",
       "\n",
       "    .dataframe thead th {\n",
       "        text-align: right;\n",
       "    }\n",
       "</style>\n",
       "<table border=\"1\" class=\"dataframe\">\n",
       "  <thead>\n",
       "    <tr style=\"text-align: right;\">\n",
       "      <th></th>\n",
       "      <th>bamei_n_uma_race</th>\n",
       "      <th>barei_n_uma_race</th>\n",
       "      <th>bataiju</th>\n",
       "      <th>zogen_fugo</th>\n",
       "      <th>zogen_sa</th>\n",
       "      <th>kyakushitsu_hantei</th>\n",
       "    </tr>\n",
       "  </thead>\n",
       "  <tbody>\n",
       "    <tr>\n",
       "      <th>0</th>\n",
       "      <td>メイトゥリアーク</td>\n",
       "      <td>4</td>\n",
       "      <td>436</td>\n",
       "      <td>2</td>\n",
       "      <td>4</td>\n",
       "      <td>3</td>\n",
       "    </tr>\n",
       "    <tr>\n",
       "      <th>1</th>\n",
       "      <td>トーホウビビアン</td>\n",
       "      <td>6</td>\n",
       "      <td>475</td>\n",
       "      <td>0</td>\n",
       "      <td>5</td>\n",
       "      <td>4</td>\n",
       "    </tr>\n",
       "    <tr>\n",
       "      <th>2</th>\n",
       "      <td>ミレッシモ</td>\n",
       "      <td>5</td>\n",
       "      <td>469</td>\n",
       "      <td>2</td>\n",
       "      <td>3</td>\n",
       "      <td>3</td>\n",
       "    </tr>\n",
       "    <tr>\n",
       "      <th>3</th>\n",
       "      <td>サンライズモストロ</td>\n",
       "      <td>4</td>\n",
       "      <td>530</td>\n",
       "      <td>2</td>\n",
       "      <td>24</td>\n",
       "      <td>2</td>\n",
       "    </tr>\n",
       "    <tr>\n",
       "      <th>4</th>\n",
       "      <td>アピールデザイン</td>\n",
       "      <td>5</td>\n",
       "      <td>444</td>\n",
       "      <td>2</td>\n",
       "      <td>1</td>\n",
       "      <td>3</td>\n",
       "    </tr>\n",
       "    <tr>\n",
       "      <th>5</th>\n",
       "      <td>フェスタジョーヌ</td>\n",
       "      <td>8</td>\n",
       "      <td>453</td>\n",
       "      <td>2</td>\n",
       "      <td>2</td>\n",
       "      <td>4</td>\n",
       "    </tr>\n",
       "    <tr>\n",
       "      <th>6</th>\n",
       "      <td>キショクマンメン</td>\n",
       "      <td>5</td>\n",
       "      <td>479</td>\n",
       "      <td>2</td>\n",
       "      <td>6</td>\n",
       "      <td>3</td>\n",
       "    </tr>\n",
       "    <tr>\n",
       "      <th>7</th>\n",
       "      <td>コエミ</td>\n",
       "      <td>6</td>\n",
       "      <td>418</td>\n",
       "      <td>0</td>\n",
       "      <td>4</td>\n",
       "      <td>3</td>\n",
       "    </tr>\n",
       "  </tbody>\n",
       "</table>\n",
       "</div>"
      ],
      "text/plain": [
       "     bamei_n_uma_race  barei_n_uma_race  bataiju  zogen_fugo  zogen_sa  \\\n",
       "0  メイトゥリアーク　　　　　　　　　　                 4      436           2         4   \n",
       "1  トーホウビビアン　　　　　　　　　　                 6      475           0         5   \n",
       "2  ミレッシモ　　　　　　　　　　　　　                 5      469           2         3   \n",
       "3  サンライズモストロ　　　　　　　　　                 4      530           2        24   \n",
       "4  アピールデザイン　　　　　　　　　　                 5      444           2         1   \n",
       "5  フェスタジョーヌ　　　　　　　　　　                 8      453           2         2   \n",
       "6  キショクマンメン　　　　　　　　　　                 5      479           2         6   \n",
       "7  コエミ　　　　　　　　　　　　　　　                 6      418           0         4   \n",
       "\n",
       "   kyakushitsu_hantei  \n",
       "0                   3  \n",
       "1                   4  \n",
       "2                   3  \n",
       "3                   2  \n",
       "4                   3  \n",
       "5                   4  \n",
       "6                   3  \n",
       "7                   3  "
      ]
     },
     "execution_count": 26,
     "metadata": {},
     "output_type": "execute_result"
    }
   ],
   "source": [
    "final_df"
   ]
  },
  {
   "cell_type": "code",
   "execution_count": 18,
   "id": "81592fdc-4f85-4ac9-bf07-b29ef3e98025",
   "metadata": {
    "scrolled": true
   },
   "outputs": [
    {
     "ename": "KeyError",
     "evalue": "\"['bamei', 'barei', 'bataiju', 'zogen_fugo', 'zogen_sa', 'kyakushitsu_hantei'] not in index\"",
     "output_type": "error",
     "traceback": [
      "\u001b[1;31m---------------------------------------------------------------------------\u001b[0m",
      "\u001b[1;31mKeyError\u001b[0m                                  Traceback (most recent call last)",
      "Cell \u001b[1;32mIn[18], line 18\u001b[0m\n\u001b[0;32m     15\u001b[0m selected_columns_from_n_targetrace \u001b[38;5;241m=\u001b[39m [\u001b[38;5;124m'\u001b[39m\u001b[38;5;124mbataiju\u001b[39m\u001b[38;5;124m'\u001b[39m, \u001b[38;5;124m'\u001b[39m\u001b[38;5;124mzogen_fugo\u001b[39m\u001b[38;5;124m'\u001b[39m, \u001b[38;5;124m'\u001b[39m\u001b[38;5;124mzogen_sa\u001b[39m\u001b[38;5;124m'\u001b[39m, \u001b[38;5;124m'\u001b[39m\u001b[38;5;124mkyakushitsu_hantei\u001b[39m\u001b[38;5;124m'\u001b[39m]\n\u001b[0;32m     17\u001b[0m \u001b[38;5;66;03m# これらのカラムを使って新しいDataFrameを作成\u001b[39;00m\n\u001b[1;32m---> 18\u001b[0m final_df \u001b[38;5;241m=\u001b[39m \u001b[43mmerged_df\u001b[49m\u001b[43m[\u001b[49m\u001b[43mselected_columns_from_n_uma_race\u001b[49m\u001b[43m \u001b[49m\u001b[38;5;241;43m+\u001b[39;49m\u001b[43m \u001b[49m\u001b[43mselected_columns_from_n_targetrace\u001b[49m\u001b[43m]\u001b[49m\n",
      "File \u001b[1;32m~\\miniforge3\\envs\\jra-van\\lib\\site-packages\\pandas\\core\\frame.py:3767\u001b[0m, in \u001b[0;36mDataFrame.__getitem__\u001b[1;34m(self, key)\u001b[0m\n\u001b[0;32m   3765\u001b[0m     \u001b[38;5;28;01mif\u001b[39;00m is_iterator(key):\n\u001b[0;32m   3766\u001b[0m         key \u001b[38;5;241m=\u001b[39m \u001b[38;5;28mlist\u001b[39m(key)\n\u001b[1;32m-> 3767\u001b[0m     indexer \u001b[38;5;241m=\u001b[39m \u001b[38;5;28;43mself\u001b[39;49m\u001b[38;5;241;43m.\u001b[39;49m\u001b[43mcolumns\u001b[49m\u001b[38;5;241;43m.\u001b[39;49m\u001b[43m_get_indexer_strict\u001b[49m\u001b[43m(\u001b[49m\u001b[43mkey\u001b[49m\u001b[43m,\u001b[49m\u001b[43m \u001b[49m\u001b[38;5;124;43m\"\u001b[39;49m\u001b[38;5;124;43mcolumns\u001b[39;49m\u001b[38;5;124;43m\"\u001b[39;49m\u001b[43m)\u001b[49m[\u001b[38;5;241m1\u001b[39m]\n\u001b[0;32m   3769\u001b[0m \u001b[38;5;66;03m# take() does not accept boolean indexers\u001b[39;00m\n\u001b[0;32m   3770\u001b[0m \u001b[38;5;28;01mif\u001b[39;00m \u001b[38;5;28mgetattr\u001b[39m(indexer, \u001b[38;5;124m\"\u001b[39m\u001b[38;5;124mdtype\u001b[39m\u001b[38;5;124m\"\u001b[39m, \u001b[38;5;28;01mNone\u001b[39;00m) \u001b[38;5;241m==\u001b[39m \u001b[38;5;28mbool\u001b[39m:\n",
      "File \u001b[1;32m~\\miniforge3\\envs\\jra-van\\lib\\site-packages\\pandas\\core\\indexes\\base.py:5877\u001b[0m, in \u001b[0;36mIndex._get_indexer_strict\u001b[1;34m(self, key, axis_name)\u001b[0m\n\u001b[0;32m   5874\u001b[0m \u001b[38;5;28;01melse\u001b[39;00m:\n\u001b[0;32m   5875\u001b[0m     keyarr, indexer, new_indexer \u001b[38;5;241m=\u001b[39m \u001b[38;5;28mself\u001b[39m\u001b[38;5;241m.\u001b[39m_reindex_non_unique(keyarr)\n\u001b[1;32m-> 5877\u001b[0m \u001b[38;5;28;43mself\u001b[39;49m\u001b[38;5;241;43m.\u001b[39;49m\u001b[43m_raise_if_missing\u001b[49m\u001b[43m(\u001b[49m\u001b[43mkeyarr\u001b[49m\u001b[43m,\u001b[49m\u001b[43m \u001b[49m\u001b[43mindexer\u001b[49m\u001b[43m,\u001b[49m\u001b[43m \u001b[49m\u001b[43maxis_name\u001b[49m\u001b[43m)\u001b[49m\n\u001b[0;32m   5879\u001b[0m keyarr \u001b[38;5;241m=\u001b[39m \u001b[38;5;28mself\u001b[39m\u001b[38;5;241m.\u001b[39mtake(indexer)\n\u001b[0;32m   5880\u001b[0m \u001b[38;5;28;01mif\u001b[39;00m \u001b[38;5;28misinstance\u001b[39m(key, Index):\n\u001b[0;32m   5881\u001b[0m     \u001b[38;5;66;03m# GH 42790 - Preserve name from an Index\u001b[39;00m\n",
      "File \u001b[1;32m~\\miniforge3\\envs\\jra-van\\lib\\site-packages\\pandas\\core\\indexes\\base.py:5941\u001b[0m, in \u001b[0;36mIndex._raise_if_missing\u001b[1;34m(self, key, indexer, axis_name)\u001b[0m\n\u001b[0;32m   5938\u001b[0m     \u001b[38;5;28;01mraise\u001b[39;00m \u001b[38;5;167;01mKeyError\u001b[39;00m(\u001b[38;5;124mf\u001b[39m\u001b[38;5;124m\"\u001b[39m\u001b[38;5;124mNone of [\u001b[39m\u001b[38;5;132;01m{\u001b[39;00mkey\u001b[38;5;132;01m}\u001b[39;00m\u001b[38;5;124m] are in the [\u001b[39m\u001b[38;5;132;01m{\u001b[39;00maxis_name\u001b[38;5;132;01m}\u001b[39;00m\u001b[38;5;124m]\u001b[39m\u001b[38;5;124m\"\u001b[39m)\n\u001b[0;32m   5940\u001b[0m not_found \u001b[38;5;241m=\u001b[39m \u001b[38;5;28mlist\u001b[39m(ensure_index(key)[missing_mask\u001b[38;5;241m.\u001b[39mnonzero()[\u001b[38;5;241m0\u001b[39m]]\u001b[38;5;241m.\u001b[39munique())\n\u001b[1;32m-> 5941\u001b[0m \u001b[38;5;28;01mraise\u001b[39;00m \u001b[38;5;167;01mKeyError\u001b[39;00m(\u001b[38;5;124mf\u001b[39m\u001b[38;5;124m\"\u001b[39m\u001b[38;5;132;01m{\u001b[39;00mnot_found\u001b[38;5;132;01m}\u001b[39;00m\u001b[38;5;124m not in index\u001b[39m\u001b[38;5;124m\"\u001b[39m)\n",
      "\u001b[1;31mKeyError\u001b[0m: \"['bamei', 'barei', 'bataiju', 'zogen_fugo', 'zogen_sa', 'kyakushitsu_hantei'] not in index\""
     ]
    }
   ],
   "source": [
    "# データのマージ\n",
    "merged_df = pd.merge(n_uma_race_df, n_targetrace_df, on=['keibajo_code', \n",
    "                                                        'race_bango', \n",
    "                                                        'kaisai_nen', \n",
    "                                                        'kaisai_tsukihi', \n",
    "                                                        'wakuban', \n",
    "                                                        'umaban'\n",
    "                                                       ], \n",
    "                     suffixes=('_n_uma_race', '_n_targetrace'))\n",
    "\n",
    "# n_uma_race_dfからのカラムを選択（特定のカラムを除外）\n",
    "selected_columns_from_n_uma_race = [col for col in n_uma_race_df.columns if col not in ['bataiju', 'zogen_fugo', 'zogen_sa', 'kyakushitsu_hantei']]\n",
    "\n",
    "# n_targetrace_dfから必要なカラムを選択\n",
    "selected_columns_from_n_targetrace = ['bataiju', 'zogen_fugo', 'zogen_sa', 'kyakushitsu_hantei']\n",
    "\n",
    "# これらのカラムを使って新しいDataFrameを作成\n",
    "final_df = merged_df[selected_columns_from_n_uma_race + selected_columns_from_n_targetrace]"
   ]
  },
  {
   "cell_type": "code",
   "execution_count": 11,
   "id": "d0d9a997-708c-4953-a519-fec3d84415db",
   "metadata": {},
   "outputs": [
    {
     "ename": "KeyError",
     "evalue": "'kyakushitsu_hantei'",
     "output_type": "error",
     "traceback": [
      "\u001b[1;31m---------------------------------------------------------------------------\u001b[0m",
      "\u001b[1;31mKeyError\u001b[0m                                  Traceback (most recent call last)",
      "File \u001b[1;32m~\\miniforge3\\envs\\jra-van\\lib\\site-packages\\pandas\\core\\indexes\\base.py:3653\u001b[0m, in \u001b[0;36mIndex.get_loc\u001b[1;34m(self, key)\u001b[0m\n\u001b[0;32m   3652\u001b[0m \u001b[38;5;28;01mtry\u001b[39;00m:\n\u001b[1;32m-> 3653\u001b[0m     \u001b[38;5;28;01mreturn\u001b[39;00m \u001b[38;5;28;43mself\u001b[39;49m\u001b[38;5;241;43m.\u001b[39;49m\u001b[43m_engine\u001b[49m\u001b[38;5;241;43m.\u001b[39;49m\u001b[43mget_loc\u001b[49m\u001b[43m(\u001b[49m\u001b[43mcasted_key\u001b[49m\u001b[43m)\u001b[49m\n\u001b[0;32m   3654\u001b[0m \u001b[38;5;28;01mexcept\u001b[39;00m \u001b[38;5;167;01mKeyError\u001b[39;00m \u001b[38;5;28;01mas\u001b[39;00m err:\n",
      "File \u001b[1;32m~\\miniforge3\\envs\\jra-van\\lib\\site-packages\\pandas\\_libs\\index.pyx:147\u001b[0m, in \u001b[0;36mpandas._libs.index.IndexEngine.get_loc\u001b[1;34m()\u001b[0m\n",
      "File \u001b[1;32m~\\miniforge3\\envs\\jra-van\\lib\\site-packages\\pandas\\_libs\\index.pyx:176\u001b[0m, in \u001b[0;36mpandas._libs.index.IndexEngine.get_loc\u001b[1;34m()\u001b[0m\n",
      "File \u001b[1;32mpandas\\_libs\\hashtable_class_helper.pxi:7080\u001b[0m, in \u001b[0;36mpandas._libs.hashtable.PyObjectHashTable.get_item\u001b[1;34m()\u001b[0m\n",
      "File \u001b[1;32mpandas\\_libs\\hashtable_class_helper.pxi:7088\u001b[0m, in \u001b[0;36mpandas._libs.hashtable.PyObjectHashTable.get_item\u001b[1;34m()\u001b[0m\n",
      "\u001b[1;31mKeyError\u001b[0m: 'kyakushitsu_hantei'",
      "\nThe above exception was the direct cause of the following exception:\n",
      "\u001b[1;31mKeyError\u001b[0m                                  Traceback (most recent call last)",
      "Cell \u001b[1;32mIn[11], line 9\u001b[0m\n\u001b[0;32m      7\u001b[0m merged_df\u001b[38;5;241m.\u001b[39mloc[merged_df\u001b[38;5;241m.\u001b[39mindex, \u001b[38;5;124m'\u001b[39m\u001b[38;5;124mzogen_sa\u001b[39m\u001b[38;5;124m'\u001b[39m] \u001b[38;5;241m=\u001b[39m merged_df[\u001b[38;5;124m'\u001b[39m\u001b[38;5;124mzogen_sa_y\u001b[39m\u001b[38;5;124m'\u001b[39m]\n\u001b[0;32m      8\u001b[0m \u001b[38;5;66;03m# 更新された行数を計算\u001b[39;00m\n\u001b[1;32m----> 9\u001b[0m updated_rows \u001b[38;5;241m=\u001b[39m (\u001b[43mmerged_df_before\u001b[49m\u001b[43m[\u001b[49m\u001b[38;5;124;43m'\u001b[39;49m\u001b[38;5;124;43mkyakushitsu_hantei\u001b[39;49m\u001b[38;5;124;43m'\u001b[39;49m\u001b[43m]\u001b[49m \u001b[38;5;241m!=\u001b[39m merged_df[\u001b[38;5;124m'\u001b[39m\u001b[38;5;124mkyakushitsu_hantei\u001b[39m\u001b[38;5;124m'\u001b[39m])\u001b[38;5;241m.\u001b[39msum()\n\u001b[0;32m     10\u001b[0m \u001b[38;5;28mprint\u001b[39m(\u001b[38;5;124mf\u001b[39m\u001b[38;5;124m\"\u001b[39m\u001b[38;5;124mUpdated rows: \u001b[39m\u001b[38;5;132;01m{\u001b[39;00mupdated_rows\u001b[38;5;132;01m}\u001b[39;00m\u001b[38;5;124m\"\u001b[39m)\n",
      "File \u001b[1;32m~\\miniforge3\\envs\\jra-van\\lib\\site-packages\\pandas\\core\\frame.py:3761\u001b[0m, in \u001b[0;36mDataFrame.__getitem__\u001b[1;34m(self, key)\u001b[0m\n\u001b[0;32m   3759\u001b[0m \u001b[38;5;28;01mif\u001b[39;00m \u001b[38;5;28mself\u001b[39m\u001b[38;5;241m.\u001b[39mcolumns\u001b[38;5;241m.\u001b[39mnlevels \u001b[38;5;241m>\u001b[39m \u001b[38;5;241m1\u001b[39m:\n\u001b[0;32m   3760\u001b[0m     \u001b[38;5;28;01mreturn\u001b[39;00m \u001b[38;5;28mself\u001b[39m\u001b[38;5;241m.\u001b[39m_getitem_multilevel(key)\n\u001b[1;32m-> 3761\u001b[0m indexer \u001b[38;5;241m=\u001b[39m \u001b[38;5;28;43mself\u001b[39;49m\u001b[38;5;241;43m.\u001b[39;49m\u001b[43mcolumns\u001b[49m\u001b[38;5;241;43m.\u001b[39;49m\u001b[43mget_loc\u001b[49m\u001b[43m(\u001b[49m\u001b[43mkey\u001b[49m\u001b[43m)\u001b[49m\n\u001b[0;32m   3762\u001b[0m \u001b[38;5;28;01mif\u001b[39;00m is_integer(indexer):\n\u001b[0;32m   3763\u001b[0m     indexer \u001b[38;5;241m=\u001b[39m [indexer]\n",
      "File \u001b[1;32m~\\miniforge3\\envs\\jra-van\\lib\\site-packages\\pandas\\core\\indexes\\base.py:3655\u001b[0m, in \u001b[0;36mIndex.get_loc\u001b[1;34m(self, key)\u001b[0m\n\u001b[0;32m   3653\u001b[0m     \u001b[38;5;28;01mreturn\u001b[39;00m \u001b[38;5;28mself\u001b[39m\u001b[38;5;241m.\u001b[39m_engine\u001b[38;5;241m.\u001b[39mget_loc(casted_key)\n\u001b[0;32m   3654\u001b[0m \u001b[38;5;28;01mexcept\u001b[39;00m \u001b[38;5;167;01mKeyError\u001b[39;00m \u001b[38;5;28;01mas\u001b[39;00m err:\n\u001b[1;32m-> 3655\u001b[0m     \u001b[38;5;28;01mraise\u001b[39;00m \u001b[38;5;167;01mKeyError\u001b[39;00m(key) \u001b[38;5;28;01mfrom\u001b[39;00m \u001b[38;5;21;01merr\u001b[39;00m\n\u001b[0;32m   3656\u001b[0m \u001b[38;5;28;01mexcept\u001b[39;00m \u001b[38;5;167;01mTypeError\u001b[39;00m:\n\u001b[0;32m   3657\u001b[0m     \u001b[38;5;66;03m# If we have a listlike key, _check_indexing_error will raise\u001b[39;00m\n\u001b[0;32m   3658\u001b[0m     \u001b[38;5;66;03m#  InvalidIndexError. Otherwise we fall through and re-raise\u001b[39;00m\n\u001b[0;32m   3659\u001b[0m     \u001b[38;5;66;03m#  the TypeError.\u001b[39;00m\n\u001b[0;32m   3660\u001b[0m     \u001b[38;5;28mself\u001b[39m\u001b[38;5;241m.\u001b[39m_check_indexing_error(key)\n",
      "\u001b[1;31mKeyError\u001b[0m: 'kyakushitsu_hantei'"
     ]
    }
   ],
   "source": [
    "# 更新前のDataFrameのコピーを作成\n",
    "merged_df_before = merged_df.copy()\n",
    "# kyakushitsu_hanteiを更新\n",
    "merged_df.loc[merged_df.index, 'kyakushitsu_hantei'] = merged_df['kyakushitsu_hantei_y']\n",
    "merged_df.loc[merged_df.index, 'bataiju'] = merged_df['bataiju_y']\n",
    "merged_df.loc[merged_df.index, 'zogen_fugo'] = merged_df['zogen_fugo_y']\n",
    "merged_df.loc[merged_df.index, 'zogen_sa'] = merged_df['zogen_sa_y']\n",
    "# 更新された行数を計算\n",
    "updated_rows = (merged_df_before['kyakushitsu_hantei'] != merged_df['kyakushitsu_hantei']).sum()\n",
    "print(f\"Updated rows: {updated_rows}\")"
   ]
  },
  {
   "cell_type": "code",
   "execution_count": null,
   "id": "1dddba65-e3e4-4edf-a1b8-b0503c9160b8",
   "metadata": {},
   "outputs": [],
   "source": [
    "# 各カラムを数値化し、欠損値の量を調べる\n",
    "for column in columns_to_convert:\n",
    "    n_uma_race_df[column] = pd.to_numeric(n_uma_race_df[column], errors='coerce')\n",
    "    missing_values = n_uma_race_df[column].isna().sum()\n",
    "    print(f\"{column} の欠損値の量: {missing_values}\")"
   ]
  },
  {
   "cell_type": "code",
   "execution_count": null,
   "id": "68799b05-a32c-4640-b0a2-5865a99fadc7",
   "metadata": {},
   "outputs": [],
   "source": [
    "n_uma_race_df.head(3)"
   ]
  },
  {
   "cell_type": "code",
   "execution_count": null,
   "id": "30db29f5-4036-46e4-b82c-db664fcfdac0",
   "metadata": {},
   "outputs": [],
   "source": [
    "n_uma_race_df.info()"
   ]
  },
  {
   "cell_type": "code",
   "execution_count": null,
   "id": "2400948c-b3f7-46d8-96c4-15398001b34f",
   "metadata": {},
   "outputs": [],
   "source": [
    "target_uma_race_df = n_uma_race_df"
   ]
  },
  {
   "cell_type": "code",
   "execution_count": null,
   "id": "f0dec926-4b50-4806-bc9c-ba1bdb7a4448",
   "metadata": {},
   "outputs": [],
   "source": [
    "# モデルを読み込む\n",
    "with open('bestmodels/benchmark.pkl', 'rb') as f:\n",
    "    models = pickle.load(f)"
   ]
  },
  {
   "cell_type": "markdown",
   "id": "50618bb5-4841-4cb9-b4cb-cc029629358c",
   "metadata": {},
   "source": [
    "### ターゲットデータで予測"
   ]
  },
  {
   "cell_type": "code",
   "execution_count": null,
   "id": "f136d5fd-39ce-463c-bc7a-e937532a34e5",
   "metadata": {},
   "outputs": [],
   "source": [
    "# 新しいグループを作成\n",
    "target_uma_race_df['group'] = target_uma_race_df['kaisai_nen'].astype(str) +\"-\"+ target_uma_race_df['kaisai_tsukihi'].astype(str) +\"-\"+  target_uma_race_df['keibajo_code'].astype(str) +\"-\"+  target_uma_race_df['race_bango'].astype(str)\n",
    "# グループごとの個数を計算\n",
    "group_counts = target_uma_race_df['group'].value_counts()\n",
    "print(group_counts)"
   ]
  },
  {
   "cell_type": "code",
   "execution_count": null,
   "id": "e0f0f1be-78e6-4a58-8476-b077d712f025",
   "metadata": {},
   "outputs": [],
   "source": [
    "# ランキング学習のために必要な特徴量とターゲットを設定\n",
    "features = [\n",
    "            'kaisai_nen',\n",
    "            'kaisai_tsukihi',\n",
    "            'keibajo_code',\n",
    "            # 'kaisai_kai',\n",
    "            # 'kaisai_nichime',\n",
    "            'race_bango',\n",
    "            'wakuban',\n",
    "            'umaban',\n",
    "            'ketto_toroku_bango',\n",
    "            # 'bamei',\n",
    "            'umakigo_code',\n",
    "            'seibetsu_code',\n",
    "            'hinshu_code',\n",
    "            'moshoku_code',\n",
    "            'barei',\n",
    "            'tozai_shozoku_code',\n",
    "            'chokyoshi_code',\n",
    "            'banushi_code',\n",
    "            # 'banushimei',\n",
    "            'futan_juryo',\n",
    "            'blinker_shiyo_kubun',\n",
    "            'kishu_code',\n",
    "            # 'kishumei_ryakusho',\n",
    "            'kishu_minarai_code',\n",
    "            'bataiju',\n",
    "            'zogen_fugo',\n",
    "            'zogen_sa',\n",
    "            'ijo_kubun_code',\n",
    "            # 'nyusen_juni',\n",
    "            ## 'kakutei_chakujun',\n",
    "            # 'dochaku_kubun',\n",
    "            # 'dochaku_tosu',\n",
    "            # 'soha_time',\n",
    "            # 'chakusa_code_1',\n",
    "            # 'chakusa_code_2',\n",
    "            # 'chakusa_code_3',\n",
    "            # 'corner_1',\n",
    "            # 'corner_2',\n",
    "            # 'corner_3',\n",
    "            # 'corner_4',\n",
    "            # 'tansho_odds',\n",
    "            # 'tansho_ninkijun',\n",
    "            # 'kakutoku_honshokin',\n",
    "            # 'kakutoku_fukashokin',\n",
    "            # 'kohan_4f',\n",
    "            # 'kohan_3f',\n",
    "            # 'aiteuma_joho_1',\n",
    "            # 'aiteuma_joho_2',\n",
    "            # 'aiteuma_joho_3',\n",
    "            # 'time_sa',\n",
    "            # 'record_koshin_kubun',\n",
    "            'kyakushitsu_hantei',\n",
    "            ]\n",
    "\n",
    "\n",
    "target = 'kakutei_chakujun'"
   ]
  },
  {
   "cell_type": "code",
   "execution_count": null,
   "id": "182f10c4-d526-4043-b9f7-e56983dee3ae",
   "metadata": {},
   "outputs": [],
   "source": [
    "target_uma_race_df['y_pred'] = sum([model.predict(target_uma_race_df[features], num_iteration=model.best_iteration) for model in models]) / len(models)\n",
    "\n",
    "# 予測されたランクをグループごとに計算\n",
    "target_uma_race_df['predicted_rank'] = target_uma_race_df.groupby('group')['y_pred'].rank(method='min')"
   ]
  },
  {
   "cell_type": "code",
   "execution_count": null,
   "id": "65eae5d5-1429-4e4b-befe-362d04234c0c",
   "metadata": {
    "scrolled": true
   },
   "outputs": [],
   "source": [
    "# groupとpredicted_rankでソート\n",
    "sorted_df = target_uma_race_df.sort_values(by=['group', 'predicted_rank'])\n",
    "\n",
    "# # pandasの表示オプションを変更して、すべての行を表示\n",
    "# pd.set_option('display.max_rows', None)\n",
    "\n",
    "# print(sorted_df[['group', 'y_pred', 'predicted_rank', 'umaban', 'bamei']])"
   ]
  },
  {
   "cell_type": "code",
   "execution_count": null,
   "id": "9ce4c2d8-1ff8-46a1-8bb9-61115e682713",
   "metadata": {},
   "outputs": [],
   "source": [
    "# マッピングのルールを定義\n",
    "race_venue_mapping = {\n",
    "    1: '札幌',\n",
    "    2: '函館',\n",
    "    3: '福島',\n",
    "    4: '新潟',\n",
    "    5: '東京',\n",
    "    6: '中山',\n",
    "    7: '中京',\n",
    "    8: '京都',\n",
    "    9: '阪神',\n",
    "    10: '小倉',\n",
    "    30: '門別',\n",
    "    31: '北見',\n",
    "    32: '岩見沢',\n",
    "    33: '帯広',\n",
    "    34: '旭川',\n",
    "    35: '盛岡',\n",
    "    36: '水沢',\n",
    "    37: '上山',\n",
    "    38: '三条',\n",
    "    39: '足利',\n",
    "    40: '宇都宮',\n",
    "    41: '高崎',\n",
    "    42: '浦和',\n",
    "    43: '船橋',\n",
    "    44: '大井',\n",
    "    45: '川崎',\n",
    "    46: '金沢',\n",
    "    47: '笠松',\n",
    "    48: '名古屋',\n",
    "    49: '紀三井寺',\n",
    "    50: '園田',\n",
    "    51: '姫路',\n",
    "    52: '益田',\n",
    "    53: '福山',\n",
    "    54: '高知',\n",
    "    55: '佐賀',\n",
    "    56: '荒尾',\n",
    "    57: '中津',\n",
    "    58: '札幌（地方競馬）',\n",
    "    59: '函館（地方競馬）',\n",
    "    60: '新潟（地方競馬）',\n",
    "    61: '中京（地方競馬）',\n",
    "    0: '未設定・未整備時'\n",
    "}\n",
    "sorted_df['keibajo'] = sorted_df['keibajo_code'].map(race_venue_mapping)"
   ]
  },
  {
   "cell_type": "code",
   "execution_count": null,
   "id": "90581478-a5cd-402c-b4ad-131380b3ee39",
   "metadata": {},
   "outputs": [],
   "source": [
    "sorted_df = sorted_df[['predicted_rank', 'bamei', 'kaisai_nen', 'kaisai_tsukihi', 'keibajo', 'race_bango', 'wakuban', 'umaban', 'zogen_sa', 'y_pred']]"
   ]
  },
  {
   "cell_type": "code",
   "execution_count": null,
   "id": "80ca42b3-8a38-41e8-88f7-4ec6341ecd8f",
   "metadata": {},
   "outputs": [],
   "source": [
    "# kaisai_tsukihiが922である行を抽出\n",
    "filtered_df = sorted_df.query(\"kaisai_tsukihi == 922 and keibajo == '名古屋' and race_bango == 1\")\n",
    "\n",
    "filtered_df"
   ]
  }
 ],
 "metadata": {
  "kernelspec": {
   "display_name": "Python 3 (ipykernel)",
   "language": "python",
   "name": "python3"
  },
  "language_info": {
   "codemirror_mode": {
    "name": "ipython",
    "version": 3
   },
   "file_extension": ".py",
   "mimetype": "text/x-python",
   "name": "python",
   "nbconvert_exporter": "python",
   "pygments_lexer": "ipython3",
   "version": "3.9.17"
  }
 },
 "nbformat": 4,
 "nbformat_minor": 5
}
